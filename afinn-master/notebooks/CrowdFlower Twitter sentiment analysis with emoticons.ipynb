{
 "cells": [
  {
   "cell_type": "code",
   "execution_count": 1,
   "metadata": {
    "collapsed": false
   },
   "outputs": [],
   "source": [
    "from __future__ import division\n",
    "\n",
    "from afinn import Afinn\n",
    "import numpy as np\n",
    "import pandas as pd"
   ]
  },
  {
   "cell_type": "code",
   "execution_count": 2,
   "metadata": {
    "collapsed": true
   },
   "outputs": [],
   "source": [
    "# http://www.crowdflower.com/data-for-everyone\n",
    "url = 'http://cdn2.hubspot.net/hubfs/346378/DFE_CSVs/Twitter-sentiment-self-drive-DFE.csv?t=1436301804871'\n",
    "df = pd.read_csv(url)"
   ]
  },
  {
   "cell_type": "code",
   "execution_count": 3,
   "metadata": {
    "collapsed": false
   },
   "outputs": [
    {
     "data": {
      "text/html": [
       "<div style=\"max-height:1000px;max-width:1500px;overflow:auto;\">\n",
       "<table border=\"1\" class=\"dataframe\">\n",
       "  <thead>\n",
       "    <tr style=\"text-align: right;\">\n",
       "      <th></th>\n",
       "      <th>sentiment</th>\n",
       "      <th>afinn</th>\n",
       "      <th>text</th>\n",
       "    </tr>\n",
       "  </thead>\n",
       "  <tbody>\n",
       "    <tr>\n",
       "      <th>0</th>\n",
       "      <td>            5</td>\n",
       "      <td> 0</td>\n",
       "      <td> Two places I'd invest all my money if I could:...</td>\n",
       "    </tr>\n",
       "    <tr>\n",
       "      <th>1</th>\n",
       "      <td>            5</td>\n",
       "      <td> 5</td>\n",
       "      <td> Awesome! Google driverless cars will help the ...</td>\n",
       "    </tr>\n",
       "    <tr>\n",
       "      <th>2</th>\n",
       "      <td>            2</td>\n",
       "      <td> 1</td>\n",
       "      <td> If Google maps can't keep up with road constru...</td>\n",
       "    </tr>\n",
       "    <tr>\n",
       "      <th>3</th>\n",
       "      <td>            2</td>\n",
       "      <td> 0</td>\n",
       "      <td> Autonomous cars seem way overhyped given the t...</td>\n",
       "    </tr>\n",
       "    <tr>\n",
       "      <th>4</th>\n",
       "      <td>            3</td>\n",
       "      <td> 0</td>\n",
       "      <td> Just saw Google self-driving car on I-34. It w...</td>\n",
       "    </tr>\n",
       "    <tr>\n",
       "      <th>5</th>\n",
       "      <td>            3</td>\n",
       "      <td> 0</td>\n",
       "      <td> Will driverless cars eventually replace taxi d...</td>\n",
       "    </tr>\n",
       "    <tr>\n",
       "      <th>6</th>\n",
       "      <td> not_relevant</td>\n",
       "      <td> 0</td>\n",
       "      <td> Chicago metro expected to be fully autonomous ...</td>\n",
       "    </tr>\n",
       "    <tr>\n",
       "      <th>7</th>\n",
       "      <td> not_relevant</td>\n",
       "      <td> 3</td>\n",
       "      <td> I love the infotainment system in my new car. ...</td>\n",
       "    </tr>\n",
       "    <tr>\n",
       "      <th>8</th>\n",
       "      <td>            5</td>\n",
       "      <td>-3</td>\n",
       "      <td> Autonomous vehicles could reduce traffic fatal...</td>\n",
       "    </tr>\n",
       "    <tr>\n",
       "      <th>9</th>\n",
       "      <td>            1</td>\n",
       "      <td> 1</td>\n",
       "      <td> Driverless cars are not worth the risk.  Don't...</td>\n",
       "    </tr>\n",
       "  </tbody>\n",
       "</table>\n",
       "</div>"
      ],
      "text/plain": [
       "      sentiment  afinn                                               text\n",
       "0             5      0  Two places I'd invest all my money if I could:...\n",
       "1             5      5  Awesome! Google driverless cars will help the ...\n",
       "2             2      1  If Google maps can't keep up with road constru...\n",
       "3             2      0  Autonomous cars seem way overhyped given the t...\n",
       "4             3      0  Just saw Google self-driving car on I-34. It w...\n",
       "5             3      0  Will driverless cars eventually replace taxi d...\n",
       "6  not_relevant      0  Chicago metro expected to be fully autonomous ...\n",
       "7  not_relevant      3  I love the infotainment system in my new car. ...\n",
       "8             5     -3  Autonomous vehicles could reduce traffic fatal...\n",
       "9             1      1  Driverless cars are not worth the risk.  Don't..."
      ]
     },
     "execution_count": 3,
     "metadata": {},
     "output_type": "execute_result"
    }
   ],
   "source": [
    "# Sentiment analysis with AFINN\n",
    "afinn = Afinn(emoticons=True)\n",
    "afinn_scores = [afinn.score(text) for text in df.text]\n",
    "df['afinn'] = afinn_scores\n",
    "df[['sentiment', 'afinn', 'text']].head(10)"
   ]
  },
  {
   "cell_type": "code",
   "execution_count": 4,
   "metadata": {
    "collapsed": false
   },
   "outputs": [
    {
     "data": {
      "text/html": [
       "<div style=\"max-height:1000px;max-width:1500px;overflow:auto;\">\n",
       "<table border=\"1\" class=\"dataframe\">\n",
       "  <thead>\n",
       "    <tr style=\"text-align: right;\">\n",
       "      <th>afinn</th>\n",
       "      <th>-13.0</th>\n",
       "      <th>-9.0</th>\n",
       "      <th>-8.0</th>\n",
       "      <th>-7.0</th>\n",
       "      <th>-6.0</th>\n",
       "      <th>-5.0</th>\n",
       "      <th>-4.0</th>\n",
       "      <th>-3.0</th>\n",
       "      <th>-2.0</th>\n",
       "      <th>-1.0</th>\n",
       "      <th>...</th>\n",
       "      <th>2.0</th>\n",
       "      <th>3.0</th>\n",
       "      <th>4.0</th>\n",
       "      <th>5.0</th>\n",
       "      <th>6.0</th>\n",
       "      <th>7.0</th>\n",
       "      <th>8.0</th>\n",
       "      <th>9.0</th>\n",
       "      <th>10.0</th>\n",
       "      <th>12.0</th>\n",
       "    </tr>\n",
       "    <tr>\n",
       "      <th>sentiment</th>\n",
       "      <th></th>\n",
       "      <th></th>\n",
       "      <th></th>\n",
       "      <th></th>\n",
       "      <th></th>\n",
       "      <th></th>\n",
       "      <th></th>\n",
       "      <th></th>\n",
       "      <th></th>\n",
       "      <th></th>\n",
       "      <th></th>\n",
       "      <th></th>\n",
       "      <th></th>\n",
       "      <th></th>\n",
       "      <th></th>\n",
       "      <th></th>\n",
       "      <th></th>\n",
       "      <th></th>\n",
       "      <th></th>\n",
       "      <th></th>\n",
       "      <th></th>\n",
       "    </tr>\n",
       "  </thead>\n",
       "  <tbody>\n",
       "    <tr>\n",
       "      <th>1</th>\n",
       "      <td> 0</td>\n",
       "      <td> 1</td>\n",
       "      <td> 2</td>\n",
       "      <td> 4</td>\n",
       "      <td>  5</td>\n",
       "      <td>  3</td>\n",
       "      <td>  9</td>\n",
       "      <td> 15</td>\n",
       "      <td>  10</td>\n",
       "      <td>   8</td>\n",
       "      <td>...</td>\n",
       "      <td>   6</td>\n",
       "      <td>   6</td>\n",
       "      <td>  1</td>\n",
       "      <td>  0</td>\n",
       "      <td>  2</td>\n",
       "      <td> 0</td>\n",
       "      <td> 0</td>\n",
       "      <td> 0</td>\n",
       "      <td> 0</td>\n",
       "      <td> 0</td>\n",
       "    </tr>\n",
       "    <tr>\n",
       "      <th>2</th>\n",
       "      <td> 0</td>\n",
       "      <td> 1</td>\n",
       "      <td> 2</td>\n",
       "      <td> 5</td>\n",
       "      <td> 10</td>\n",
       "      <td> 15</td>\n",
       "      <td> 25</td>\n",
       "      <td> 49</td>\n",
       "      <td>  97</td>\n",
       "      <td>  65</td>\n",
       "      <td>...</td>\n",
       "      <td>  62</td>\n",
       "      <td>  38</td>\n",
       "      <td> 19</td>\n",
       "      <td>  7</td>\n",
       "      <td>  6</td>\n",
       "      <td> 0</td>\n",
       "      <td> 2</td>\n",
       "      <td> 0</td>\n",
       "      <td> 1</td>\n",
       "      <td> 0</td>\n",
       "    </tr>\n",
       "    <tr>\n",
       "      <th>3</th>\n",
       "      <td> 0</td>\n",
       "      <td> 0</td>\n",
       "      <td> 1</td>\n",
       "      <td> 1</td>\n",
       "      <td>  4</td>\n",
       "      <td> 14</td>\n",
       "      <td> 38</td>\n",
       "      <td> 83</td>\n",
       "      <td> 199</td>\n",
       "      <td> 232</td>\n",
       "      <td>...</td>\n",
       "      <td> 324</td>\n",
       "      <td> 172</td>\n",
       "      <td> 86</td>\n",
       "      <td> 28</td>\n",
       "      <td> 12</td>\n",
       "      <td> 8</td>\n",
       "      <td> 4</td>\n",
       "      <td> 1</td>\n",
       "      <td> 2</td>\n",
       "      <td> 0</td>\n",
       "    </tr>\n",
       "    <tr>\n",
       "      <th>4</th>\n",
       "      <td> 1</td>\n",
       "      <td> 0</td>\n",
       "      <td> 1</td>\n",
       "      <td> 3</td>\n",
       "      <td>  6</td>\n",
       "      <td>  8</td>\n",
       "      <td> 19</td>\n",
       "      <td> 38</td>\n",
       "      <td>  84</td>\n",
       "      <td>  72</td>\n",
       "      <td>...</td>\n",
       "      <td> 184</td>\n",
       "      <td> 157</td>\n",
       "      <td> 92</td>\n",
       "      <td> 38</td>\n",
       "      <td> 23</td>\n",
       "      <td> 7</td>\n",
       "      <td> 7</td>\n",
       "      <td> 1</td>\n",
       "      <td> 1</td>\n",
       "      <td> 0</td>\n",
       "    </tr>\n",
       "    <tr>\n",
       "      <th>5</th>\n",
       "      <td> 0</td>\n",
       "      <td> 0</td>\n",
       "      <td> 0</td>\n",
       "      <td> 1</td>\n",
       "      <td>  0</td>\n",
       "      <td>  1</td>\n",
       "      <td>  5</td>\n",
       "      <td> 11</td>\n",
       "      <td>  14</td>\n",
       "      <td>  12</td>\n",
       "      <td>...</td>\n",
       "      <td>  55</td>\n",
       "      <td>  65</td>\n",
       "      <td> 59</td>\n",
       "      <td> 14</td>\n",
       "      <td> 15</td>\n",
       "      <td> 6</td>\n",
       "      <td> 5</td>\n",
       "      <td> 1</td>\n",
       "      <td> 2</td>\n",
       "      <td> 1</td>\n",
       "    </tr>\n",
       "    <tr>\n",
       "      <th>not_relevant</th>\n",
       "      <td> 0</td>\n",
       "      <td> 0</td>\n",
       "      <td> 0</td>\n",
       "      <td> 2</td>\n",
       "      <td>  2</td>\n",
       "      <td>  1</td>\n",
       "      <td>  3</td>\n",
       "      <td>  3</td>\n",
       "      <td>   7</td>\n",
       "      <td>  17</td>\n",
       "      <td>...</td>\n",
       "      <td>  22</td>\n",
       "      <td>  18</td>\n",
       "      <td> 12</td>\n",
       "      <td>  4</td>\n",
       "      <td>  4</td>\n",
       "      <td> 2</td>\n",
       "      <td> 0</td>\n",
       "      <td> 0</td>\n",
       "      <td> 0</td>\n",
       "      <td> 1</td>\n",
       "    </tr>\n",
       "  </tbody>\n",
       "</table>\n",
       "<p>6 rows × 22 columns</p>\n",
       "</div>"
      ],
      "text/plain": [
       "afinn         -13  -9   -8   -7   -6   -5   -4   -3   -2   -1  ...    2    3   \\\n",
       "sentiment                                                      ...              \n",
       "1               0    1    2    4    5    3    9   15   10    8 ...     6    6   \n",
       "2               0    1    2    5   10   15   25   49   97   65 ...    62   38   \n",
       "3               0    0    1    1    4   14   38   83  199  232 ...   324  172   \n",
       "4               1    0    1    3    6    8   19   38   84   72 ...   184  157   \n",
       "5               0    0    0    1    0    1    5   11   14   12 ...    55   65   \n",
       "not_relevant    0    0    0    2    2    1    3    3    7   17 ...    22   18   \n",
       "\n",
       "afinn          4    5    6    7    8    9    10   12  \n",
       "sentiment                                             \n",
       "1               1    0    2    0    0    0    0    0  \n",
       "2              19    7    6    0    2    0    1    0  \n",
       "3              86   28   12    8    4    1    2    0  \n",
       "4              92   38   23    7    7    1    1    0  \n",
       "5              59   14   15    6    5    1    2    1  \n",
       "not_relevant   12    4    4    2    0    0    0    1  \n",
       "\n",
       "[6 rows x 22 columns]"
      ]
     },
     "execution_count": 4,
     "metadata": {},
     "output_type": "execute_result"
    }
   ],
   "source": [
    "pd.crosstab(df.sentiment, df.afinn)"
   ]
  },
  {
   "cell_type": "code",
   "execution_count": 5,
   "metadata": {
    "collapsed": false
   },
   "outputs": [],
   "source": [
    "# Ignore tweets that are marked as 'not relevant'\n",
    "df_relevant = df[df.sentiment != 'not_relevant']\n",
    "df_relevant = df_relevant.convert_objects(convert_numeric=True)"
   ]
  },
  {
   "cell_type": "code",
   "execution_count": 6,
   "metadata": {
    "collapsed": false
   },
   "outputs": [
    {
     "data": {
      "text/html": [
       "<div style=\"max-height:1000px;max-width:1500px;overflow:auto;\">\n",
       "<table border=\"1\" class=\"dataframe\">\n",
       "  <thead>\n",
       "    <tr style=\"text-align: right;\">\n",
       "      <th>afinn</th>\n",
       "      <th>-1.0</th>\n",
       "      <th>0.0</th>\n",
       "      <th>1.0</th>\n",
       "    </tr>\n",
       "    <tr>\n",
       "      <th>sentiment</th>\n",
       "      <th></th>\n",
       "      <th></th>\n",
       "      <th></th>\n",
       "    </tr>\n",
       "  </thead>\n",
       "  <tbody>\n",
       "    <tr>\n",
       "      <th>-1</th>\n",
       "      <td> 326</td>\n",
       "      <td>  243</td>\n",
       "      <td>  226</td>\n",
       "    </tr>\n",
       "    <tr>\n",
       "      <th> 0</th>\n",
       "      <td> 572</td>\n",
       "      <td> 2698</td>\n",
       "      <td>  975</td>\n",
       "    </tr>\n",
       "    <tr>\n",
       "      <th> 1</th>\n",
       "      <td> 276</td>\n",
       "      <td>  624</td>\n",
       "      <td> 1003</td>\n",
       "    </tr>\n",
       "  </tbody>\n",
       "</table>\n",
       "</div>"
      ],
      "text/plain": [
       "afinn       -1     0     1\n",
       "sentiment                 \n",
       "-1         326   243   226\n",
       " 0         572  2698   975\n",
       " 1         276   624  1003"
      ]
     },
     "execution_count": 6,
     "metadata": {},
     "output_type": "execute_result"
    }
   ],
   "source": [
    "# Compute 3-class confusion matrix\n",
    "confusion = pd.crosstab(np.sign(df_relevant.sentiment - 3), np.sign(df_relevant.afinn))\n",
    "confusion"
   ]
  },
  {
   "cell_type": "code",
   "execution_count": 7,
   "metadata": {
    "collapsed": false
   },
   "outputs": [
    {
     "data": {
      "text/plain": [
       "0.5800086417974939"
      ]
     },
     "execution_count": 7,
     "metadata": {},
     "output_type": "execute_result"
    }
   ],
   "source": [
    "accuracy_3_class = np.sum(np.diag(confusion)) / np.sum(confusion.values)\n",
    "accuracy_3_class"
   ]
  },
  {
   "cell_type": "code",
   "execution_count": 8,
   "metadata": {
    "collapsed": false
   },
   "outputs": [
    {
     "data": {
      "text/html": [
       "<div style=\"max-height:1000px;max-width:1500px;overflow:auto;\">\n",
       "<table border=\"1\" class=\"dataframe\">\n",
       "  <thead>\n",
       "    <tr style=\"text-align: right;\">\n",
       "      <th>afinn</th>\n",
       "      <th>-1.0</th>\n",
       "      <th>1.0</th>\n",
       "    </tr>\n",
       "    <tr>\n",
       "      <th>sentiment</th>\n",
       "      <th></th>\n",
       "      <th></th>\n",
       "    </tr>\n",
       "  </thead>\n",
       "  <tbody>\n",
       "    <tr>\n",
       "      <th>-1</th>\n",
       "      <td> 326</td>\n",
       "      <td>  226</td>\n",
       "    </tr>\n",
       "    <tr>\n",
       "      <th> 1</th>\n",
       "      <td> 276</td>\n",
       "      <td> 1003</td>\n",
       "    </tr>\n",
       "  </tbody>\n",
       "</table>\n",
       "</div>"
      ],
      "text/plain": [
       "afinn       -1     1\n",
       "sentiment           \n",
       "-1         326   226\n",
       " 1         276  1003"
      ]
     },
     "execution_count": 8,
     "metadata": {},
     "output_type": "execute_result"
    }
   ],
   "source": [
    "# Compute 2-class confusion matrix\n",
    "confusion_2_class = confusion.iloc[[0, 2], [0, 2]]\n",
    "confusion_2_class"
   ]
  },
  {
   "cell_type": "code",
   "execution_count": 9,
   "metadata": {
    "collapsed": false
   },
   "outputs": [
    {
     "data": {
      "text/plain": [
       "0.72583287820862918"
      ]
     },
     "execution_count": 9,
     "metadata": {},
     "output_type": "execute_result"
    }
   ],
   "source": [
    "accuracy_2_class = np.sum(np.diag(confusion_2_class)) / np.sum(confusion_2_class.values)\n",
    "accuracy_2_class"
   ]
  },
  {
   "cell_type": "code",
   "execution_count": 10,
   "metadata": {
    "collapsed": false
   },
   "outputs": [
    {
     "data": {
      "text/plain": [
       "0.67121791370835604"
      ]
     },
     "execution_count": 10,
     "metadata": {},
     "output_type": "execute_result"
    }
   ],
   "source": [
    "accuracy_2_class_baseline = confusion_2_class.sum().max() / np.sum(confusion_2_class.values)\n",
    "accuracy_2_class_baseline "
   ]
  },
  {
   "cell_type": "code",
   "execution_count": null,
   "metadata": {
    "collapsed": true
   },
   "outputs": [],
   "source": []
  }
 ],
 "metadata": {
  "kernelspec": {
   "display_name": "Python 2",
   "language": "python",
   "name": "python2"
  },
  "language_info": {
   "codemirror_mode": {
    "name": "ipython",
    "version": 2
   },
   "file_extension": ".py",
   "mimetype": "text/x-python",
   "name": "python",
   "nbconvert_exporter": "python",
   "pygments_lexer": "ipython2",
   "version": "2.7.6"
  }
 },
 "nbformat": 4,
 "nbformat_minor": 0
}

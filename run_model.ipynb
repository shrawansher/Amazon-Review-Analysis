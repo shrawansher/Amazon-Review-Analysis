{
 "cells": [
  {
   "cell_type": "code",
   "execution_count": 161,
   "metadata": {},
   "outputs": [
    {
     "name": "stdout",
     "output_type": "stream",
     "text": [
      "Populating the interactive namespace from numpy and matplotlib\n"
     ]
    },
    {
     "name": "stderr",
     "output_type": "stream",
     "text": [
      "/Users/shraws/anaconda3/lib/python3.6/site-packages/IPython/core/magics/pylab.py:160: UserWarning: pylab import has clobbered these variables: ['hstack', 'random', 'clf']\n",
      "`%matplotlib` prevents importing * from pylab and numpy\n",
      "  \"\\n`%matplotlib` prevents importing * from pylab and numpy\"\n"
     ]
    }
   ],
   "source": [
    "%pylab inline \n",
    "\n",
    "import json\n",
    "import pandas as pd\n",
    "import nltk\n",
    "import numpy as np\n",
    "import random\n",
    "import re\n",
    "import string\n",
    "import progressbar\n",
    "\n",
    "from sklearn.feature_extraction.text import CountVectorizer, TfidfTransformer\n",
    "from sklearn.decomposition import LatentDirichletAllocation\n",
    "from sklearn.linear_model import LogisticRegression\n",
    "from sklearn.ensemble import RandomForestClassifier\n",
    "from sklearn.metrics import precision_recall_curve, roc_auc_score, auc\n",
    "from sklearn.model_selection import train_test_split\n",
    "from sklearn import preprocessing\n",
    "from sklearn.metrics import accuracy_score\n",
    "from sklearn.metrics import confusion_matrix\n",
    "from sklearn import linear_model\n",
    "from sklearn.metrics import mean_squared_error\n",
    "from sklearn.linear_model import Ridge, BayesianRidge, LinearRegression\n",
    "from sklearn import cross_validation\n",
    "from sklearn.pipeline import make_pipeline\n",
    "from sklearn.preprocessing import StandardScaler, RobustScaler, Normalizer\n",
    "from sklearn.model_selection import cross_val_score\n",
    "from sklearn.feature_extraction.text import TfidfVectorizer\n",
    "from sklearn.metrics import classification_report\n",
    "\n",
    "import seaborn as sns\n",
    "import statsmodels.formula.api as smf\n",
    "\n",
    "from collections import Counter, OrderedDict\n",
    "\n",
    "from nltk.corpus import stopwords\n",
    "from nltk import PorterStemmer\n",
    "from nltk import word_tokenize\n",
    "\n",
    "from scipy.sparse import hstack\n",
    "from afinn import Afinn\n",
    "\n",
    "from gensim.models import Doc2Vec\n",
    "from gensim.models.doc2vec import TaggedLineDocument\n",
    "from gensim.models.doc2vec import LabeledSentence\n",
    "from gensim import models\n",
    "\n",
    "import time\n",
    "import afinn"
   ]
  },
  {
   "cell_type": "code",
   "execution_count": 22,
   "metadata": {
    "collapsed": true
   },
   "outputs": [],
   "source": [
    "REVIEWS = 'reviews'\n",
    "stemmer = PorterStemmer()"
   ]
  },
  {
   "cell_type": "code",
   "execution_count": 167,
   "metadata": {
    "collapsed": true
   },
   "outputs": [],
   "source": [
    "category_map = {\n",
    "    #\"Amazon_Instant_Video\" : 0\n",
    "   # \"Apps_for_Android\" : 1,\n",
    "   # \"Automotive\" : 2,\n",
    "   # \"Baby\" : 3,\n",
    "   # \"Beauty\" : 4,\n",
    "   # \"Books\" : 5,\n",
    "#     \"CDs_and_Vinyl\" : 6,\n",
    "#     \"Cell_Phones_and_Accessories\" : 7,\n",
    "   #  \"Clothing_Shoes_and_Jewelry\" : 8,\n",
    "    #\"Digital_Music\" : 9\n",
    "  #    \"Electronics\" : 10\n",
    "  #   \"Grocery_and_Gourmet_Food\" : 11\n",
    "#     \"Health_and_Personal_Care\" : 12,\n",
    "#     \"Home_and_Kitchen\" : 13,\n",
    "#     \"Kindle_Store\" : 14,\n",
    "#     \"Movies_and_TV\" : 15,\n",
    "   #  \"Musical_Instruments\" : 16,\n",
    "     \"Office_Products\" : 17\n",
    "#     \"Patio_Lawn_and_Garden\" : 18,\n",
    "   #  \"Pet_Supplies\" : 19\n",
    "#     \"Sports_and_Outdoors\" : 20,\n",
    "#     \"Tools_and_Home_Improvement\" : 21,\n",
    "#     \"Toys_and_Games\" : 22,\n",
    "#     \"Video_Games\" : 23\n",
    "}\n",
    "\n",
    "col_names = [\"reviewer_id\", \"asin\", \"summary\",\"review_text\", \"overall\", \"category\", \"total_votes\",\"upvotes\",\"score\",\n",
    "             \"good\", \"bad\"]"
   ]
  },
  {
   "cell_type": "code",
   "execution_count": 33,
   "metadata": {
    "collapsed": true
   },
   "outputs": [],
   "source": [
    "def read_dataset(category_t):\n",
    "    data =[]\n",
    "    for category in category_map:\n",
    "        if category_map[category] == category_t:\n",
    "            fn = \"data/\" + REVIEWS+ \"_\" + category + \"_\"+\"5\" + \".json\"\n",
    "            print(\"Reading category\", category)\n",
    "            with open(fn) as f:\n",
    "                for line in f:\n",
    "                    d = json.loads(line)\n",
    "                    pf, tf = d[\"helpful\"]\n",
    "                    if tf >1 and len(d[\"reviewText\"].split())  >10:\n",
    "                        score = int(pf) / int(tf)\n",
    "                        row = [d[\"reviewerID\"], \n",
    "                               d[\"asin\"], \n",
    "                               d[\"summary\"],\n",
    "                               d[\"reviewText\"],\n",
    "                               d[\"overall\"],\n",
    "                               category_map[category],\n",
    "                               int(tf),\n",
    "                               int(pf),\n",
    "                               (score),\n",
    "                               int(score >= 0.80),\n",
    "                               int(score <= 0.20)]\n",
    "                        data.append(row)\n",
    "    print(\"File read!\")\n",
    "    return pd.DataFrame(data, columns=col_names)"
   ]
  },
  {
   "cell_type": "code",
   "execution_count": 34,
   "metadata": {
    "collapsed": true
   },
   "outputs": [],
   "source": [
    "#Calculates fraction of unique words\n",
    "def text_richness(text):\n",
    "    return len(set(text.split()))/len(text.split())\n"
   ]
  },
  {
   "cell_type": "code",
   "execution_count": 45,
   "metadata": {
    "collapsed": true
   },
   "outputs": [],
   "source": [
    "def process_text(text, stem_in = True):\n",
    "    # lowercase\n",
    "    # remove symbols\n",
    "    RE_PREPROCESS = r'\\W+|\\d+'  \n",
    "#get rid of punctuation and make everything lowercase\n",
    "    text = re.sub(RE_PREPROCESS, ' ', text).lower()\n",
    "    if stem_in:\n",
    "        return stemmer.stem(text)\n",
    "    return text\n",
    "\n",
    "def total_characters(fd):\n",
    "    sum = 0\n",
    "    for v,k in fd.items():\n",
    "        sum += (v*k)\n",
    "    return sum\n",
    "\n",
    "def word_length_avg(text):\n",
    "    fd = nltk.FreqDist(len(w) for w in process_text(text).split())\n",
    "    print(fd)\n",
    "    if fd.N() ==0:\n",
    "        print(\"issue detected: \", text)\n",
    "    return total_characters(fd)/fd.N()"
   ]
  },
  {
   "cell_type": "code",
   "execution_count": 36,
   "metadata": {
    "collapsed": true
   },
   "outputs": [],
   "source": [
    "\n",
    "def create_topics(tfidf, features, N_TOPICS=3, N_TOP_WORDS=5,):\n",
    "    \"\"\"\n",
    "    Given a matrix of features of text data generate topics\n",
    "    \n",
    "    Parameters\n",
    "    -----------\n",
    "    tfidf: scipy sparse matrix\n",
    "        sparse matrix of text features\n",
    "    N_TOPICS: int\n",
    "        number of topics (default 10)\n",
    "    N_TOP_WORDS: int\n",
    "        number of top words to display in each topic (default 10)\n",
    "        \n",
    "    Returns\n",
    "    -------\n",
    "    ls_keywords: ls\n",
    "        list of keywords for each topics\n",
    "    doctopic: array\n",
    "        numpy array with percentages of topic that fit each category\n",
    "    N_TOPICS: int\n",
    "        number of assumed topics\n",
    "    N_TOP_WORDS: int\n",
    "        Number of top words in a given topic. \n",
    "    \"\"\"\n",
    "    \n",
    "    with progressbar.ProgressBar(max_value=progressbar.UnknownLength) as bar:\n",
    "        i=0\n",
    "        lda = LatentDirichletAllocation( n_topics= N_TOPICS,\n",
    "                                       learning_method='online') #create an object that will create 5 topics\n",
    "        bar.update(i)\n",
    "        i+=1\n",
    "        doctopic = lda.fit_transform( tfidf )\n",
    "        bar.update(i)\n",
    "        i+=1\n",
    "        \n",
    "        ls_keywords = []\n",
    "        for i,topic in enumerate(lda.components_):\n",
    "            word_idx = np.argsort(topic)[::-1][:N_TOP_WORDS]\n",
    "            keywords = ', '.join( features[i] for i in word_idx)\n",
    "            ls_keywords.append(keywords)\n",
    "            print(i, keywords)\n",
    "            bar.update(i)\n",
    "            i+=1\n",
    "            \n",
    "    return ls_keywords, doctopic"
   ]
  },
  {
   "cell_type": "code",
   "execution_count": 37,
   "metadata": {
    "collapsed": true
   },
   "outputs": [],
   "source": [
    "\n",
    "def create_bag_of_words(corpus,\n",
    "                       NGRAM_RANGE=(0,1),\n",
    "                       stop_words = None,\n",
    "                       stem = False,\n",
    "                       MIN_DF = 0.02,\n",
    "                       MAX_DF = 0.8,\n",
    "                       USE_IDF=False):\n",
    "    \"\"\"\n",
    "    Turn a corpus of text into a bag-of-words.\n",
    "    \n",
    "    Parameters\n",
    "    -----------\n",
    "    corpus: ls\n",
    "        test of documents in corpus    \n",
    "    NGRAM_RANGE: tupule\n",
    "        range of N-gram default (0,1)\n",
    "    stop_words: ls\n",
    "        list of commonly occuring words that have little semantic\n",
    "        value\n",
    "    stem: bool\n",
    "        use a stemmer to stem words\n",
    "    MIN_DF: float\n",
    "       exclude words that have a frequency less than the threshold\n",
    "    MAX_DF: float\n",
    "        exclude words that have a frequency greater than the threshold\n",
    "    \n",
    "    \n",
    "    Returns\n",
    "    -------\n",
    "    bag_of_words: scipy sparse matrix\n",
    "        scipy sparse matrix of text\n",
    "    features:\n",
    "        ls of words\n",
    "    \"\"\"\n",
    "    #parameters for vectorizer \n",
    "    ANALYZER = \"word\" #unit of features are single words rather then phrases of words \n",
    "    STRIP_ACCENTS = 'unicode'\n",
    "     \n",
    "    if stem:\n",
    "        tokenize = lambda x: [stemmer.stem(i) for i in x.split()]\n",
    "    else:\n",
    "        tokenize = None\n",
    "    vectorizer = CountVectorizer(analyzer=ANALYZER,\n",
    "                                tokenizer=tokenize, \n",
    "                                ngram_range=NGRAM_RANGE,\n",
    "                                stop_words = stop_words,\n",
    "                                strip_accents=STRIP_ACCENTS,\n",
    "                                min_df = MIN_DF,\n",
    "                                max_df = MAX_DF)\n",
    "    \n",
    "    bag_of_words = vectorizer.fit_transform( corpus ) #transform our corpus is a bag of words \n",
    "    features = vectorizer.get_feature_names()\n",
    "\n",
    "    if USE_IDF:\n",
    "        NORM = None #turn on normalization flag\n",
    "        SMOOTH_IDF = True #prvents division by zero errors\n",
    "        SUBLINEAR_IDF = True #replace TF with 1 + log(TF)\n",
    "        transformer = TfidfTransformer(norm = NORM,smooth_idf = SMOOTH_IDF,sublinear_tf = True)\n",
    "        #get the bag-of-words from the vectorizer and\n",
    "        #then use TFIDF to limit the tokens found throughout the text \n",
    "        tfidf = transformer.fit_transform(bag_of_words)\n",
    "        \n",
    "        return tfidf, features\n",
    "    else:\n",
    "        return bag_of_words, features"
   ]
  },
  {
   "cell_type": "code",
   "execution_count": 84,
   "metadata": {
    "collapsed": true
   },
   "outputs": [],
   "source": [
    "def get_word_counts(bag_of_words, feature_names):\n",
    "    \"\"\"\n",
    "    Get the ordered word counts from a bag_of_words\n",
    "    \n",
    "    Parameters\n",
    "    ----------\n",
    "    bag_of_words: obj\n",
    "        scipy sparse matrix from CounterVectorizer\n",
    "    feature_names: ls\n",
    "        list of words\n",
    "        \n",
    "    Returns\n",
    "    -------\n",
    "    word_counts: dict\n",
    "        Dictionary of word counts\n",
    "    \"\"\"\n",
    "    np_bag_of_words = bag_of_words.toarray()\n",
    "    word_count = np.sum(np_bag_of_words,axis=0)\n",
    "    np_word_count = np.asarray(word_count).ravel()\n",
    "    dict_word_counts = dict( zip(feature_names, np_word_count) )\n",
    "    \n",
    "    orddict_word_counts = OrderedDict( \n",
    "                                    sorted(dict_word_counts.items(), key=lambda x: x[1], reverse=True), )\n",
    "    \n",
    "    return orddict_word_counts"
   ]
  },
  {
   "cell_type": "code",
   "execution_count": 87,
   "metadata": {
    "collapsed": true
   },
   "outputs": [],
   "source": [
    "def plot_precision_recall_n(y_true, y_prob, model_name):\n",
    "    \"\"\"\n",
    "    y_true: ls\n",
    "        ls of ground truth labels\n",
    "    y_prob: ls\n",
    "        ls of predic proba from model\n",
    "    model_name: str\n",
    "        str of model name (e.g, LR_123)\n",
    "    \"\"\"\n",
    "    from sklearn.metrics import precision_recall_curve\n",
    "    y_score = y_prob\n",
    "    precision_curve, recall_curve, pr_thresholds = precision_recall_curve(y_true, y_score)\n",
    "    precision_curve = precision_curve[:-1]\n",
    "    recall_curve = recall_curve[:-1]\n",
    "    pct_above_per_thresh = []\n",
    "    number_scored = len(y_score)\n",
    "    for value in pr_thresholds:\n",
    "        num_above_thresh = len(y_score[y_score>=value])\n",
    "        pct_above_thresh = num_above_thresh / float(number_scored)\n",
    "        pct_above_per_thresh.append(pct_above_thresh)\n",
    "    pct_above_per_thresh = np.array(pct_above_per_thresh)\n",
    "    plt.clf()\n",
    "    fig, ax1 = plt.subplots()\n",
    "    ax1.plot(pct_above_per_thresh, precision_curve, 'b')\n",
    "    ax1.set_xlabel('percent of population')\n",
    "    ax1.set_ylabel('precision', color='b')\n",
    "    ax1.set_ylim(0,1.05)\n",
    "    ax2 = ax1.twinx()\n",
    "    ax2.plot(pct_above_per_thresh, recall_curve, 'r')\n",
    "    ax2.set_ylabel('recall', color='r')\n",
    "    ax2.set_ylim(0,1.05)\n",
    "    \n",
    "    name = model_name\n",
    "    plt.title(name)\n",
    "    plt.show()"
   ]
  },
  {
   "cell_type": "code",
   "execution_count": 95,
   "metadata": {
    "collapsed": true
   },
   "outputs": [],
   "source": [
    "def plot_precision_recall(y_true,y_score):\n",
    "    \"\"\"\n",
    "    Plot a precision recall curve\n",
    "    \n",
    "    Parameters\n",
    "    ----------\n",
    "    y_true: ls\n",
    "        ground truth labels\n",
    "    y_score: ls\n",
    "        score output from model\n",
    "    \"\"\"\n",
    "    precision_curve, recall_curve, pr_thresholds = precision_recall_curve(y_true,y_score[:,1])\n",
    "    plt.plot(recall_curve, precision_curve)\n",
    "    plt.xlabel('Recall')\n",
    "    plt.ylabel('Precision')\n",
    "    auc_val = auc(recall_curve,precision_curve)\n",
    "    print('AUC-PR: {0:1f}'.format(auc_val))\n",
    "    plt.show()\n",
    "    plt.clf()"
   ]
  },
  {
   "cell_type": "code",
   "execution_count": 126,
   "metadata": {},
   "outputs": [],
   "source": [
    "\n",
    "# report on training and test sets\n",
    "def print_results(y_pred_test,y_test):\n",
    "#     print('Error rate on training set: ')\n",
    "#     print((y_train != y_pred).sum() / X_train.shape[0])\n",
    "#     print('Accuracy rate on training set: ')\n",
    "#     print(1 - (y_train != y_pred).sum() / X_train.shape[0])\n",
    "#     print('True positive rate on training set:')\n",
    "#     print(((y_train==True) & (y_pred==True)).sum() / y_train.sum())\n",
    "    print('**************')\n",
    "    print('Error rate on test set: ')\n",
    "    print(np.sum(y_test != y_pred_test) / len(y_test))\n",
    "    print('Accuracy rate on test set: ')\n",
    "    print(1 - np.sum(y_test != y_pred_test) / len(y_test))\n",
    "    print('Precision')\n",
    "    print(np.sum((y_test==1) & (y_pred_test==1)) / np.sum(y_test))\n",
    "    print('Recall')\n",
    "    print(np.sum((y_test==0) & (y_pred_test==0)) / (len(y_test) - np.sum(y_test)))"
   ]
  },
  {
   "cell_type": "code",
   "execution_count": 134,
   "metadata": {},
   "outputs": [],
   "source": [
    "\n",
    "clf_names = [\"Ridge\",\n",
    "             \"BayesianRidge\",\n",
    "             \"LinearRegression\"\n",
    "            ]\n",
    "classifiers = [Ridge(),\n",
    "               BayesianRidge(),\n",
    "               LinearRegression()\n",
    "              ]"
   ]
  },
  {
   "cell_type": "code",
   "execution_count": 168,
   "metadata": {
    "collapsed": true
   },
   "outputs": [],
   "source": [
    "cats = [17]"
   ]
  },
  {
   "cell_type": "code",
   "execution_count": null,
   "metadata": {
    "collapsed": true
   },
   "outputs": [],
   "source": []
  },
  {
   "cell_type": "code",
   "execution_count": null,
   "metadata": {
    "scrolled": false
   },
   "outputs": [
    {
     "name": "stdout",
     "output_type": "stream",
     "text": [
      "Reading category Office_Products\n",
      "number of revs 12000\n",
      "text richness score calculated\n",
      "Median score 0.857142857143\n",
      "Mean score 0.7473203155645903\n",
      "Not Helpful reviews 1407\n",
      "Helpful reviews 10593\n",
      "Baseline accuracy 0.88275\n",
      "Length of training data 9600\n",
      "Length of test data 2400\n",
      "Baseline accuracy 0.882395833333\n",
      "Logistic Accuracy 0.884166666667\n",
      "             precision    recall  f1-score   support\n",
      "\n",
      "Not Helpful       0.00      0.00      0.00       278\n",
      "    Helpful       0.88      1.00      0.94      2122\n",
      "\n",
      "avg / total       0.78      0.88      0.83      2400\n",
      "\n"
     ]
    },
    {
     "name": "stderr",
     "output_type": "stream",
     "text": [
      "/Users/shraws/anaconda3/lib/python3.6/site-packages/sklearn/metrics/classification.py:1135: UndefinedMetricWarning: Precision and F-score are ill-defined and being set to 0.0 in labels with no predicted samples.\n",
      "  'precision', 'predicted', average, warn_for)\n"
     ]
    },
    {
     "data": {
      "text/plain": [
       "<matplotlib.figure.Figure at 0x1a294cef28>"
      ]
     },
     "metadata": {},
     "output_type": "display_data"
    },
    {
     "data": {
      "image/png": "[encoded data removed]",
      "text/plain": [
       "<matplotlib.figure.Figure at 0x1a359cd780>"
      ]
     },
     "metadata": {},
     "output_type": "display_data"
    },
    {
     "name": "stdout",
     "output_type": "stream",
     "text": [
      "AUC-PR: 0.921761\n"
     ]
    },
    {
     "data": {
      "image/png": "[encoded data removed]",
      "text/plain": [
       "<matplotlib.figure.Figure at 0x1a314b8dd8>"
      ]
     },
     "metadata": {},
     "output_type": "display_data"
    },
    {
     "name": "stdout",
     "output_type": "stream",
     "text": [
      "\n",
      "Random Forest Accuracy 0.885833333333\n"
     ]
    },
    {
     "data": {
      "text/plain": [
       "<matplotlib.figure.Figure at 0x1a21992b00>"
      ]
     },
     "metadata": {},
     "output_type": "display_data"
    },
    {
     "data": {
      "image/png": "[encoded data removed]",
      "text/plain": [
       "<matplotlib.figure.Figure at 0x1a4978cac8>"
      ]
     },
     "metadata": {},
     "output_type": "display_data"
    },
    {
     "name": "stdout",
     "output_type": "stream",
     "text": [
      "AUC-PR: 0.934257\n"
     ]
    },
    {
     "data": {
      "image/png": "[encoded data removed]",
      "text/plain": [
       "<matplotlib.figure.Figure at 0x1a400e9f98>"
      ]
     },
     "metadata": {},
     "output_type": "display_data"
    },
    {
     "name": "stdout",
     "output_type": "stream",
     "text": [
      "             precision    recall  f1-score   support\n",
      "\n",
      "Not Helpful       0.83      0.02      0.04       278\n",
      "    Helpful       0.89      1.00      0.94      2122\n",
      "\n",
      "avg / total       0.88      0.89      0.83      2400\n",
      "\n",
      "\n"
     ]
    },
    {
     "name": "stderr",
     "output_type": "stream",
     "text": [
      "/Users/shraws/anaconda3/lib/python3.6/site-packages/sklearn/linear_model/stochastic_gradient.py:84: FutureWarning: max_iter and tol parameters have been added in <class 'sklearn.linear_model.stochastic_gradient.SGDClassifier'> in 0.19. If both are left unset, they default to max_iter=5 and tol=None. If tol is not None, max_iter defaults to max_iter=1000. From 0.21, default max_iter will be 1000, and default tol will be 1e-3.\n",
      "  \"and default tol will be 1e-3.\" % type(self), FutureWarning)\n"
     ]
    },
    {
     "name": "stdout",
     "output_type": "stream",
     "text": [
      "SGD Accuracy 0.844166666667\n",
      "             precision    recall  f1-score   support\n",
      "\n",
      "Not Helpful       0.29      0.23      0.26       278\n",
      "    Helpful       0.90      0.92      0.91      2122\n",
      "\n",
      "avg / total       0.83      0.84      0.84      2400\n",
      "\n",
      "Baseline accuracy for test data 0.7460616791590563\n"
     ]
    }
   ],
   "source": [
    "for cat in cats:\n",
    "    df = read_dataset(cat)\n",
    "    df.head()\n",
    "    print(\"number of revs\",len(df))\n",
    "\n",
    "    df['review_length'] = [len(x.split()) for x in df['review_text']]\n",
    "\n",
    "    df['text_richness'] = df.review_text.apply(lambda x: text_richness(x))\n",
    "    print(\"text richness score calculated\")\n",
    "\n",
    "#     afinn  = Afinn(emoticons=True)\n",
    "#     df['afinn'] = df.review_text.apply(lambda x: afinn.score(x))\n",
    "#     sentiment_mean = np.mean(df['afinn'])\n",
    "#     sentiment_std = np.std(df['afinn'])\n",
    "#     df['afinn_normal'] = (df['afinn']-sentiment_mean)/sentiment_std\n",
    "#     print(\"sentiment score calculated\")\n",
    "    \n",
    "    image_regex = 'picture[s]?|attach[ed|ment]|image[s]?|video[s]'\n",
    "    df['image_flag'] = [1 if x else 0 for x in df.review_text.str.contains(image_regex, regex=True, case=0)]\n",
    "\n",
    "#     df['avg_word_len'] = df.review_text.apply(lambda x: word_length_avg(x))\n",
    "\n",
    "    score_median = np.median(df['score'])\n",
    "    print(\"Median score\", score_median)\n",
    "\n",
    "    score_mean = np.mean(df['score'])\n",
    "    print(\"Mean score\", score_mean)\n",
    "\n",
    "    df_good = df[df['score']>=0.5]\n",
    "    df_bad = df[df['score']<0.5]\n",
    "\n",
    "    len_bad = len(df_bad)\n",
    "    len_good = len(df_good)\n",
    "\n",
    "    print(\"Not Helpful reviews\",len_bad)\n",
    "    print(\"Helpful reviews\", len_good)\n",
    "    print(\"Baseline accuracy\",len_good/len(df))\n",
    "\n",
    "    corpus = df[\"review_text\"]\n",
    "\n",
    "    #Stop word list\n",
    "    eng_stopwords =  stopwords.words('english')\n",
    "\n",
    "    #get rid of the punctuations and set all characters to lowercase\n",
    "    RE_PREPROCESS = r'\\W+|\\d+' #the regular expressions that matches all non-characters\n",
    "    stemmer = PorterStemmer()\n",
    "    #Retrieve words and lowercase them\n",
    "    processed_corpus = np.array( [ re.sub(RE_PREPROCESS, ' ', comment).lower() for comment in corpus] )\n",
    "\n",
    "#     processed_bag_of_words, processed_features = create_bag_of_words(processed_corpus,\n",
    "#                                                                      stop_words=eng_stopwords,\n",
    "#                                                                      stem=True,\n",
    "#                                                                      NGRAM_RANGE=(0,2),\n",
    "#                                                                      USE_IDF = True)\n",
    "\n",
    "    nVec = TfidfVectorizer(analyzer='word', ngram_range=(2, 3), min_df=1)\n",
    "    processed_bag_of_words = nVec.fit_transform(processed_corpus)\n",
    "    y= []\n",
    "    for score in df['score']:\n",
    "        if score >= 0.5:\n",
    "            y.append(1)\n",
    "        else:\n",
    "            y.append(0)\n",
    "    \n",
    "    y_reg = df['score']\n",
    "    \n",
    "    target_names = [\"Not Helpful\", \"Helpful\"]\n",
    "    #Adding features\n",
    "    X = hstack((processed_bag_of_words,np.array(df['overall']/5)[:,None]))\n",
    "    X = hstack((X,np.array(df['review_length']/np.max(df['review_length']))[:,None]))\n",
    "    X = hstack((X,np.array(df['image_flag'])[:,None]))\n",
    "#     X = hstack((X,np.array(df['avg_word_len'])[:,None]))\n",
    "    #X = hstack((X,np.array(df['afinn_normal'])[:,None]))\n",
    "    #Logistic\n",
    "    X_train,X_test,y_train,y_test = train_test_split(X,y,test_size=0.2, random_state=42)\n",
    "\n",
    "    print(\"Length of training data\",len(y_train))\n",
    "    print(\"Length of test data\", len(y_test))\n",
    "    y_score\n",
    "    print(\"Baseline accuracy\", np.mean(y_train))\n",
    "    \n",
    "    #Logistic Model\n",
    "    clf = LogisticRegression(penalty='l1',C=.02)\n",
    "    mdl = clf.fit(X_train, y_train) #train the classifer to get the model\n",
    "    \n",
    "    y_score = mdl.predict_proba(X_test )\n",
    "    y_pred = mdl.predict(X_test)\n",
    "    acc1= accuracy_score(y_test, y_pred, normalize=True, sample_weight=None)\n",
    "    \n",
    "    print(\"Logistic Accuracy\", acc1)\n",
    "    print(classification_report(y_test, y_pred, target_names=target_names))    \n",
    "    plot_precision_recall_n(y_test,y_score[:,1], 'LM')\n",
    "    plot_precision_recall(y_test,y_score);\n",
    "    \n",
    "#     print_results(y_pred,y_test,X_test)\n",
    "    print()\n",
    "    \n",
    "    #RandomForest Model\n",
    "    clf = RandomForestClassifier(n_jobs=2, random_state=0)\n",
    "    mdl = clf.fit(X_train, y_train)\n",
    "    y_score = mdl.predict_proba(X_test )\n",
    "    y_pred = mdl.predict(X_test)\n",
    "    acc2= accuracy_score(y_test, y_pred, normalize=True, sample_weight=None)\n",
    "    print(\"Random Forest Accuracy\", acc2)\n",
    "    plot_precision_recall_n(y_test,y_score[:,1], 'RF')\n",
    "    plot_precision_recall(y_test,y_score);\n",
    "    print(classification_report(y_test, y_pred, target_names=target_names))\n",
    "#     print_results(y_pred,y_test,X_test)\n",
    "    print()\n",
    "    \n",
    "    clf = linear_model.SGDClassifier(loss='squared_hinge')\n",
    "    clf.fit(X_train, y_train)\n",
    "    mdl = clf.fit(X_train, y_train)\n",
    "   # y_score = mdl.predict_proba(X_test)\n",
    "    y_pred = clf.predict(X_test)\n",
    "    acc3= accuracy_score(y_test, y_pred, normalize=True, sample_weight=None)\n",
    "    print(\"SGD Accuracy\", acc3)\n",
    "    print(classification_report(y_test, y_pred, target_names=target_names))\n",
    "#     plot_precision_recall_n(y_test,y_score[:,1], 'RF')\n",
    "#     plot_precision_recall(y_test,y_score);\n",
    "    \n",
    "    #regresssion\n",
    "    X_train,X_test,y_train,y_test = train_test_split(X,y_reg,test_size=0.2, random_state=42)\n",
    "    baseline_score = np.mean(y_test)\n",
    "    print(\"Baseline accuracy for test data\", baseline_score)\n",
    "    \n",
    "    reg = linear_model.LinearRegression()\n",
    "    mdl = reg.fit(X_train, y_train)\n",
    "    y_score= mdl.predict(X_test)\n",
    "    \n",
    "    print(\"baseline mse\",mean_squared_error(y_test, [baseline_score]*len(y_test)))\n",
    "    \n",
    "    print(\"mse\", mean_squared_error(y_score, [baseline_score]*len(y_test)))\n",
    "    print(\"\\n\\n\")\n",
    "#     for i in range(len(y_test)):\n",
    "#         if math.fabs(y_test[i]-y_score) <0.02 and y_score<0.5:\n",
    "#             print()\n",
    "#     print('Accuracy of different classifier, with Normalization')\n",
    "#     normalization_methods_name = ['StandardScaler', 'Normalizer']#, 'RobustScaler'\n",
    "#     normalization_methods = [StandardScaler(), Normalizer()]#, RobustScaler(),\n",
    "#     # iterate over classifiers\n",
    "#     for name, clf in zip(clf_names, classifiers):\n",
    "#         print('\\n')\n",
    "#         for norm_name, norm in zip(normalization_methods_name, normalization_methods):\n",
    "#             loo = cross_validation.KFold(5)\n",
    "#             scores = cross_validation.cross_val_score(make_pipeline(clf), X, y_reg, scoring='neg_mean_squared_error', cv=loo)\n",
    "#             clf.fit(X,y_reg)\n",
    "#             print('{},{},mean_squared_error:{}'.format(name, norm_name,mean_squared_error(y_reg, clf.predict(X))))\n",
    "            \n",
    "            \n",
    "            "
   ]
  },
  {
   "cell_type": "code",
   "execution_count": 104,
   "metadata": {
    "collapsed": true
   },
   "outputs": [],
   "source": [
    "y_score = [[0.3,0.7]]*10"
   ]
  },
  {
   "cell_type": "code",
   "execution_count": 109,
   "metadata": {},
   "outputs": [
    {
     "data": {
      "text/plain": [
       "[[0.3, 0.7], [0.3, 0.7], [0.3, 0.7], [0.3, 0.7], [0.3, 0.7]]"
      ]
     },
     "execution_count": 109,
     "metadata": {},
     "output_type": "execute_result"
    }
   ],
   "source": [
    "y_score[:5]"
   ]
  },
  {
   "cell_type": "code",
   "execution_count": 110,
   "metadata": {},
   "outputs": [
    {
     "data": {
      "text/plain": [
       "1935    0.9\n",
       "6494    1.0\n",
       "1720    1.0\n",
       "9120    1.0\n",
       "Name: score, dtype: float64"
      ]
     },
     "execution_count": 110,
     "metadata": {},
     "output_type": "execute_result"
    }
   ],
   "source": [
    "y_test[:4]"
   ]
  },
  {
   "cell_type": "code",
   "execution_count": 113,
   "metadata": {},
   "outputs": [
    {
     "data": {
      "text/plain": [
       "array([ 0.74732032,  0.74732032,  0.74732032, ...,  0.74732032,\n",
       "        0.74732032,  0.74732032])"
      ]
     },
     "execution_count": 113,
     "metadata": {},
     "output_type": "execute_result"
    }
   ],
   "source": [
    "np.asarray([score_mean]*len(y_test),)"
   ]
  },
  {
   "cell_type": "code",
   "execution_count": null,
   "metadata": {
    "collapsed": true
   },
   "outputs": [],
   "source": []
  }
 ],
 "metadata": {
  "kernelspec": {
   "display_name": "Python 3",
   "language": "python",
   "name": "python3"
  },
  "language_info": {
   "codemirror_mode": {
    "name": "ipython",
    "version": 3
   },
   "file_extension": ".py",
   "mimetype": "text/x-python",
   "name": "python",
   "nbconvert_exporter": "python",
   "pygments_lexer": "ipython3",
   "version": "3.6.2"
  }
 },
 "nbformat": 4,
 "nbformat_minor": 2
}

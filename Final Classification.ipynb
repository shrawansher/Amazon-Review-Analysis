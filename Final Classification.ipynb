{
 "cells": [
  {
   "cell_type": "code",
   "execution_count": 259,
   "metadata": {},
   "outputs": [
    {
     "name": "stdout",
     "output_type": "stream",
     "text": [
      "Populating the interactive namespace from numpy and matplotlib\n"
     ]
    },
    {
     "name": "stderr",
     "output_type": "stream",
     "text": [
      "/Users/shraws/anaconda3/lib/python3.6/site-packages/IPython/core/magics/pylab.py:160: UserWarning: pylab import has clobbered these variables: ['hstack', 'random']\n",
      "`%matplotlib` prevents importing * from pylab and numpy\n",
      "  \"\\n`%matplotlib` prevents importing * from pylab and numpy\"\n"
     ]
    }
   ],
   "source": [
    "%pylab inline \n",
    "\n",
    "import json\n",
    "import pandas as pd\n",
    "import nltk\n",
    "import numpy as np\n",
    "import random\n",
    "import re\n",
    "import string\n",
    "import progressbar\n",
    "\n",
    "from sklearn.feature_extraction.text import CountVectorizer, TfidfTransformer\n",
    "from sklearn.decomposition import LatentDirichletAllocation\n",
    "from sklearn.linear_model import LogisticRegression\n",
    "from sklearn.ensemble import RandomForestClassifier\n",
    "from sklearn.metrics import precision_recall_curve, roc_auc_score, auc\n",
    "from sklearn.model_selection import train_test_split\n",
    "from sklearn import preprocessing\n",
    "from sklearn.metrics import accuracy_score\n",
    "from sklearn.metrics import confusion_matrix\n",
    "\n",
    "from collections import Counter, OrderedDict\n",
    "\n",
    "from nltk.corpus import stopwords\n",
    "from nltk import PorterStemmer\n",
    "from nltk import word_tokenize\n",
    "\n",
    "from scipy.sparse import hstack\n",
    "from afinn import Afinn\n",
    "\n",
    "from gensim.models import Doc2Vec\n",
    "from gensim.models.doc2vec import TaggedLineDocument\n",
    "from gensim.models.doc2vec import LabeledSentence\n",
    "from gensim import models\n",
    "\n",
    "import time"
   ]
  },
  {
   "cell_type": "code",
   "execution_count": 43,
   "metadata": {
    "collapsed": true
   },
   "outputs": [],
   "source": [
    "REVIEWS = 'reviews'"
   ]
  },
  {
   "cell_type": "code",
   "execution_count": 44,
   "metadata": {
    "collapsed": true
   },
   "outputs": [],
   "source": [
    "\n",
    "category_map = {\n",
    "   # \"Amazon_Instant_Video\" : 0,\n",
    "   # \"Apps_for_Android\" : 1,\n",
    "   # \"Automotive\" : 2,\n",
    "   # \"Baby\" : 3,\n",
    "   # \"Beauty\" : 4,\n",
    "   # \"Books\" : 5,\n",
    "#     \"CDs_and_Vinyl\" : 6,\n",
    "#     \"Cell_Phones_and_Accessories\" : 7,\n",
    "#     \"Clothing_Shoes_and_Jewelry\" : 8,\n",
    "#     \"Digital_Music\" : 9,\n",
    "#    \"Electronics\" : 10\n",
    "#     \"Grocery_and_Gourmet_Food\" : 11,\n",
    "#     \"Health_and_Personal_Care\" : 12,\n",
    "#     \"Home_and_Kitchen\" : 13,\n",
    "#     \"Kindle_Store\" : 14,\n",
    "#     \"Movies_and_TV\" : 15,\n",
    "#     \"Musical_Instruments\" : 16,\n",
    "     \"Office_Products\" : 17\n",
    "#     \"Patio_Lawn_and_Garden\" : 18,\n",
    "#     \"Pet_Supplies\" : 19,\n",
    "#     \"Sports_and_Outdoors\" : 20,\n",
    "#     \"Tools_and_Home_Improvement\" : 21,\n",
    "#     \"Toys_and_Games\" : 22,\n",
    "#     \"Video_Games\" : 23\n",
    "}\n",
    "\n",
    "col_names = [\"reviewer_id\", \"asin\", \"summary\",\"review_text\", \"overall\", \"category\", \"total_votes\",\"upvotes\",\"score\",\n",
    "             \"good\", \"bad\"]"
   ]
  },
  {
   "cell_type": "code",
   "execution_count": 45,
   "metadata": {
    "collapsed": true
   },
   "outputs": [],
   "source": [
    "def read_dataset():\n",
    "    data =[]\n",
    "    for category in category_map:\n",
    "        fn = \"data/\" + REVIEWS+ \"_\" + category + \"_\"+\"5\" + \".json\"\n",
    "        print(\"Reading category\", category)\n",
    "        with open(fn) as f:\n",
    "            for line in f:\n",
    "                d = json.loads(line)\n",
    "                pf, tf = d[\"helpful\"]\n",
    "                if tf >1 and len(d[\"reviewText\"].split())  >10:\n",
    "                    score = int(pf) / int(tf)\n",
    "                    row = [d[\"reviewerID\"], \n",
    "                           d[\"asin\"], \n",
    "                           d[\"summary\"],\n",
    "                           d[\"reviewText\"],\n",
    "                           d[\"overall\"],\n",
    "                           category_map[category],\n",
    "                           int(tf),\n",
    "                           int(pf),\n",
    "                           (score),\n",
    "                           int(score >= 0.80),\n",
    "                           int(score <= 0.20)]\n",
    "                    data.append(row)\n",
    "                    \n",
    "    return pd.DataFrame(data, columns=col_names)\n",
    "\n",
    "\n",
    "#df = df.sample(frac=1).reset_index(drop=True) # Randomize entry order\n"
   ]
  },
  {
   "cell_type": "raw",
   "metadata": {},
   "source": []
  },
  {
   "cell_type": "markdown",
   "metadata": {},
   "source": []
  },
  {
   "cell_type": "code",
   "execution_count": 46,
   "metadata": {},
   "outputs": [
    {
     "name": "stdout",
     "output_type": "stream",
     "text": [
      "Reading category Office_Products\n"
     ]
    },
    {
     "data": {
      "text/html": [
       "<div>\n",
       "<style>\n",
       "    .dataframe thead tr:only-child th {\n",
       "        text-align: right;\n",
       "    }\n",
       "\n",
       "    .dataframe thead th {\n",
       "        text-align: left;\n",
       "    }\n",
       "\n",
       "    .dataframe tbody tr th {\n",
       "        vertical-align: top;\n",
       "    }\n",
       "</style>\n",
       "<table border=\"1\" class=\"dataframe\">\n",
       "  <thead>\n",
       "    <tr style=\"text-align: right;\">\n",
       "      <th></th>\n",
       "      <th>reviewer_id</th>\n",
       "      <th>asin</th>\n",
       "      <th>summary</th>\n",
       "      <th>review_text</th>\n",
       "      <th>overall</th>\n",
       "      <th>category</th>\n",
       "      <th>total_votes</th>\n",
       "      <th>upvotes</th>\n",
       "      <th>score</th>\n",
       "      <th>good</th>\n",
       "      <th>bad</th>\n",
       "    </tr>\n",
       "  </thead>\n",
       "  <tbody>\n",
       "    <tr>\n",
       "      <th>0</th>\n",
       "      <td>A32T2H8150OJLU</td>\n",
       "      <td>B00000JBLH</td>\n",
       "      <td>A solid performer, and long time friend</td>\n",
       "      <td>I bought my first HP12C in about 1984 or so, a...</td>\n",
       "      <td>5.0</td>\n",
       "      <td>17</td>\n",
       "      <td>4</td>\n",
       "      <td>3</td>\n",
       "      <td>0.750000</td>\n",
       "      <td>0</td>\n",
       "      <td>0</td>\n",
       "    </tr>\n",
       "    <tr>\n",
       "      <th>1</th>\n",
       "      <td>A3MAFS04ZABRGO</td>\n",
       "      <td>B00000JBLH</td>\n",
       "      <td>Price of GOLD is up, so don't bury the golden ...</td>\n",
       "      <td>WHY THIS BELATED REVIEW? I feel very obliged t...</td>\n",
       "      <td>5.0</td>\n",
       "      <td>17</td>\n",
       "      <td>9</td>\n",
       "      <td>7</td>\n",
       "      <td>0.777778</td>\n",
       "      <td>0</td>\n",
       "      <td>0</td>\n",
       "    </tr>\n",
       "    <tr>\n",
       "      <th>2</th>\n",
       "      <td>A1F1A0QQP2XVH5</td>\n",
       "      <td>B00000JBLH</td>\n",
       "      <td>Good functionality, but not durable like old HPs</td>\n",
       "      <td>I have an HP 48GX that has been kicking for mo...</td>\n",
       "      <td>2.0</td>\n",
       "      <td>17</td>\n",
       "      <td>3</td>\n",
       "      <td>3</td>\n",
       "      <td>1.000000</td>\n",
       "      <td>1</td>\n",
       "      <td>0</td>\n",
       "    </tr>\n",
       "    <tr>\n",
       "      <th>3</th>\n",
       "      <td>A49R5DBXXQDE5</td>\n",
       "      <td>B00000JBLH</td>\n",
       "      <td>One of the last of an almost extinct species</td>\n",
       "      <td>I've started doing more finance stuff recently...</td>\n",
       "      <td>5.0</td>\n",
       "      <td>17</td>\n",
       "      <td>8</td>\n",
       "      <td>7</td>\n",
       "      <td>0.875000</td>\n",
       "      <td>1</td>\n",
       "      <td>0</td>\n",
       "    </tr>\n",
       "    <tr>\n",
       "      <th>4</th>\n",
       "      <td>A2JFOHC9W629IE</td>\n",
       "      <td>B00000JBLH</td>\n",
       "      <td>Every MBA student and grad should get one</td>\n",
       "      <td>While I don't have an MBA, it's hard to believ...</td>\n",
       "      <td>5.0</td>\n",
       "      <td>17</td>\n",
       "      <td>12</td>\n",
       "      <td>10</td>\n",
       "      <td>0.833333</td>\n",
       "      <td>1</td>\n",
       "      <td>0</td>\n",
       "    </tr>\n",
       "  </tbody>\n",
       "</table>\n",
       "</div>"
      ],
      "text/plain": [
       "      reviewer_id        asin  \\\n",
       "0  A32T2H8150OJLU  B00000JBLH   \n",
       "1  A3MAFS04ZABRGO  B00000JBLH   \n",
       "2  A1F1A0QQP2XVH5  B00000JBLH   \n",
       "3   A49R5DBXXQDE5  B00000JBLH   \n",
       "4  A2JFOHC9W629IE  B00000JBLH   \n",
       "\n",
       "                                             summary  \\\n",
       "0            A solid performer, and long time friend   \n",
       "1  Price of GOLD is up, so don't bury the golden ...   \n",
       "2   Good functionality, but not durable like old HPs   \n",
       "3       One of the last of an almost extinct species   \n",
       "4          Every MBA student and grad should get one   \n",
       "\n",
       "                                         review_text  overall  category  \\\n",
       "0  I bought my first HP12C in about 1984 or so, a...      5.0        17   \n",
       "1  WHY THIS BELATED REVIEW? I feel very obliged t...      5.0        17   \n",
       "2  I have an HP 48GX that has been kicking for mo...      2.0        17   \n",
       "3  I've started doing more finance stuff recently...      5.0        17   \n",
       "4  While I don't have an MBA, it's hard to believ...      5.0        17   \n",
       "\n",
       "   total_votes  upvotes     score  good  bad  \n",
       "0            4        3  0.750000     0    0  \n",
       "1            9        7  0.777778     0    0  \n",
       "2            3        3  1.000000     1    0  \n",
       "3            8        7  0.875000     1    0  \n",
       "4           12       10  0.833333     1    0  "
      ]
     },
     "execution_count": 46,
     "metadata": {},
     "output_type": "execute_result"
    }
   ],
   "source": [
    "#Aggregating the review data across all categories\n",
    "df = read_dataset()\n",
    "df.head()"
   ]
  },
  {
   "cell_type": "code",
   "execution_count": 47,
   "metadata": {},
   "outputs": [
    {
     "data": {
      "text/plain": [
       "12000"
      ]
     },
     "execution_count": 47,
     "metadata": {},
     "output_type": "execute_result"
    }
   ],
   "source": [
    "len(df)"
   ]
  },
  {
   "cell_type": "code",
   "execution_count": 48,
   "metadata": {
    "collapsed": true
   },
   "outputs": [],
   "source": [
    "df['review_length'] = [len(x.split()) for x in df['review_text']]"
   ]
  },
  {
   "cell_type": "code",
   "execution_count": 1,
   "metadata": {},
   "outputs": [
    {
     "ename": "NameError",
     "evalue": "name 'df' is not defined",
     "output_type": "error",
     "traceback": [
      "\u001b[1;31m---------------------------------------------------------------------------\u001b[0m",
      "\u001b[1;31mNameError\u001b[0m                                 Traceback (most recent call last)",
      "\u001b[1;32m<ipython-input-1-7ed0097d7e9e>\u001b[0m in \u001b[0;36m<module>\u001b[1;34m()\u001b[0m\n\u001b[1;32m----> 1\u001b[1;33m \u001b[0mdf\u001b[0m\u001b[1;33m\u001b[0m\u001b[0m\n\u001b[0m",
      "\u001b[1;31mNameError\u001b[0m: name 'df' is not defined"
     ]
    }
   ],
   "source": [
    "df"
   ]
  },
  {
   "cell_type": "code",
   "execution_count": 50,
   "metadata": {},
   "outputs": [
    {
     "data": {
      "text/plain": [
       "array([[<matplotlib.axes._subplots.AxesSubplot object at 0x1a22305be0>]], dtype=object)"
      ]
     },
     "execution_count": 50,
     "metadata": {},
     "output_type": "execute_result"
    },
    {
     "data": {
      "image/png": "[encoded data removed]",
      "text/plain": [
       "<matplotlib.figure.Figure at 0x1a22305080>"
      ]
     },
     "metadata": {},
     "output_type": "display_data"
    }
   ],
   "source": [
    "df.hist(column='review_length',bins =100)"
   ]
  },
  {
   "cell_type": "code",
   "execution_count": 51,
   "metadata": {},
   "outputs": [
    {
     "data": {
      "text/plain": [
       "[4050, 3854, 3624, 3448, 3164, 3134, 2877, 2804, 2692, 2548]"
      ]
     },
     "execution_count": 51,
     "metadata": {},
     "output_type": "execute_result"
    }
   ],
   "source": [
    "sorted(df['review_length'],reverse=True)[:10]"
   ]
  },
  {
   "cell_type": "code",
   "execution_count": 52,
   "metadata": {},
   "outputs": [
    {
     "data": {
      "text/plain": [
       "164.0"
      ]
     },
     "execution_count": 52,
     "metadata": {},
     "output_type": "execute_result"
    }
   ],
   "source": [
    "np.median(df['review_length'])"
   ]
  },
  {
   "cell_type": "code",
   "execution_count": 53,
   "metadata": {},
   "outputs": [
    {
     "data": {
      "text/plain": [
       "array([[<matplotlib.axes._subplots.AxesSubplot object at 0x1a22ca6198>]], dtype=object)"
      ]
     },
     "execution_count": 53,
     "metadata": {},
     "output_type": "execute_result"
    },
    {
     "data": {
      "image/png": "[encoded data removed]",
      "text/plain": [
       "<matplotlib.figure.Figure at 0x1a222e1b38>"
      ]
     },
     "metadata": {},
     "output_type": "display_data"
    }
   ],
   "source": [
    "df.hist(column='score')"
   ]
  },
  {
   "cell_type": "code",
   "execution_count": 55,
   "metadata": {
    "collapsed": true
   },
   "outputs": [],
   "source": [
    "#score_plus = df[df['score']>0.5]\n",
    "#score_minus = df[df['score']<=0.5]"
   ]
  },
  {
   "cell_type": "code",
   "execution_count": 56,
   "metadata": {
    "collapsed": true
   },
   "outputs": [],
   "source": [
    "#df = df[df['total_votes']>5]"
   ]
  },
  {
   "cell_type": "code",
   "execution_count": 57,
   "metadata": {},
   "outputs": [
    {
     "data": {
      "text/plain": [
       "array([[<matplotlib.axes._subplots.AxesSubplot object at 0x1a22dc4b70>]], dtype=object)"
      ]
     },
     "execution_count": 57,
     "metadata": {},
     "output_type": "execute_result"
    },
    {
     "data": {
      "image/png": "[encoded data removed]",
      "text/plain": [
       "<matplotlib.figure.Figure at 0x1a22c9e198>"
      ]
     },
     "metadata": {},
     "output_type": "display_data"
    }
   ],
   "source": [
    "df.hist(column='score')"
   ]
  },
  {
   "cell_type": "code",
   "execution_count": 58,
   "metadata": {},
   "outputs": [
    {
     "data": {
      "text/plain": [
       "12000"
      ]
     },
     "execution_count": 58,
     "metadata": {},
     "output_type": "execute_result"
    }
   ],
   "source": [
    "len(df)"
   ]
  },
  {
   "cell_type": "code",
   "execution_count": 60,
   "metadata": {},
   "outputs": [
    {
     "data": {
      "text/plain": [
       "0.0"
      ]
     },
     "execution_count": 60,
     "metadata": {},
     "output_type": "execute_result"
    }
   ],
   "source": [
    "np.min(df['score'])"
   ]
  },
  {
   "cell_type": "code",
   "execution_count": 62,
   "metadata": {},
   "outputs": [
    {
     "name": "stdout",
     "output_type": "stream",
     "text": [
      "0.7473203155645903\n"
     ]
    }
   ],
   "source": [
    "score_mean = np.mean(df['score'])\n",
    "print(score_mean)"
   ]
  },
  {
   "cell_type": "code",
   "execution_count": 63,
   "metadata": {},
   "outputs": [
    {
     "name": "stdout",
     "output_type": "stream",
     "text": [
      "0.857142857143\n"
     ]
    }
   ],
   "source": [
    "score_median = np.median(df['score'])\n",
    "print(score_median)"
   ]
  },
  {
   "cell_type": "code",
   "execution_count": 64,
   "metadata": {
    "collapsed": true
   },
   "outputs": [],
   "source": [
    "# df_good = df.loc[df['good'] == 1]\n",
    "# df_bad = df.loc[df['bad'] == 1]\n",
    "# df_neutral =  df.loc[(df['good'] == 0) & (df['bad'] == 0)]"
   ]
  },
  {
   "cell_type": "code",
   "execution_count": 66,
   "metadata": {
    "collapsed": true
   },
   "outputs": [],
   "source": [
    "# print (\"Number of entries:\", len(df))\n",
    "# print (\"Good count:\", len(df_good))\n",
    "# print( \"Bad count:\", len(df_bad))\n",
    "# print( \"Neutral count:\", len(df_neutral))\n",
    "\n",
    "# del df_bad,df_good,df_neutral"
   ]
  },
  {
   "cell_type": "code",
   "execution_count": 80,
   "metadata": {
    "collapsed": true
   },
   "outputs": [],
   "source": [
    "df_good = df[df['score']>=score_median]\n",
    "df_bad = df[df['score']<score_median]\n",
    "\n",
    "len_bad = len(df_bad)\n",
    "len_good = len(df_good)"
   ]
  },
  {
   "cell_type": "code",
   "execution_count": 81,
   "metadata": {},
   "outputs": [
    {
     "name": "stdout",
     "output_type": "stream",
     "text": [
      "Not Helpful reviews 5967\n",
      "Helpful reviews 6033\n",
      "Baseline accuracy 0.50275\n"
     ]
    }
   ],
   "source": [
    "print(\"Not Helpful reviews\",len_bad)\n",
    "print(\"Helpful reviews\", len_good)\n",
    "print(\"Baseline accuracy\",len_good/len(df))"
   ]
  },
  {
   "cell_type": "code",
   "execution_count": 82,
   "metadata": {
    "collapsed": true
   },
   "outputs": [],
   "source": [
    "\n",
    "def create_topics(tfidf, features, N_TOPICS=3, N_TOP_WORDS=5,):\n",
    "    \"\"\"\n",
    "    Given a matrix of features of text data generate topics\n",
    "    \n",
    "    Parameters\n",
    "    -----------\n",
    "    tfidf: scipy sparse matrix\n",
    "        sparse matrix of text features\n",
    "    N_TOPICS: int\n",
    "        number of topics (default 10)\n",
    "    N_TOP_WORDS: int\n",
    "        number of top words to display in each topic (default 10)\n",
    "        \n",
    "    Returns\n",
    "    -------\n",
    "    ls_keywords: ls\n",
    "        list of keywords for each topics\n",
    "    doctopic: array\n",
    "        numpy array with percentages of topic that fit each category\n",
    "    N_TOPICS: int\n",
    "        number of assumed topics\n",
    "    N_TOP_WORDS: int\n",
    "        Number of top words in a given topic. \n",
    "    \"\"\"\n",
    "    \n",
    "    with progressbar.ProgressBar(max_value=progressbar.UnknownLength) as bar:\n",
    "        i=0\n",
    "        lda = LatentDirichletAllocation( n_topics= N_TOPICS,\n",
    "                                       learning_method='online') #create an object that will create 5 topics\n",
    "        bar.update(i)\n",
    "        i+=1\n",
    "        doctopic = lda.fit_transform( tfidf )\n",
    "        bar.update(i)\n",
    "        i+=1\n",
    "        \n",
    "        ls_keywords = []\n",
    "        for i,topic in enumerate(lda.components_):\n",
    "            word_idx = np.argsort(topic)[::-1][:N_TOP_WORDS]\n",
    "            keywords = ', '.join( features[i] for i in word_idx)\n",
    "            ls_keywords.append(keywords)\n",
    "            print(i, keywords)\n",
    "            bar.update(i)\n",
    "            i+=1\n",
    "            \n",
    "    return ls_keywords, doctopic"
   ]
  },
  {
   "cell_type": "code",
   "execution_count": 83,
   "metadata": {
    "collapsed": true
   },
   "outputs": [],
   "source": [
    "\n",
    "def create_bag_of_words(corpus,\n",
    "                       NGRAM_RANGE=(0,1),\n",
    "                       stop_words = None,\n",
    "                       stem = False,\n",
    "                       MIN_DF = 0.02,\n",
    "                       MAX_DF = 0.8,\n",
    "                       USE_IDF=False):\n",
    "    \"\"\"\n",
    "    Turn a corpus of text into a bag-of-words.\n",
    "    \n",
    "    Parameters\n",
    "    -----------\n",
    "    corpus: ls\n",
    "        test of documents in corpus    \n",
    "    NGRAM_RANGE: tupule\n",
    "        range of N-gram default (0,1)\n",
    "    stop_words: ls\n",
    "        list of commonly occuring words that have little semantic\n",
    "        value\n",
    "    stem: bool\n",
    "        use a stemmer to stem words\n",
    "    MIN_DF: float\n",
    "       exclude words that have a frequency less than the threshold\n",
    "    MAX_DF: float\n",
    "        exclude words that have a frequency greater than the threshold\n",
    "    \n",
    "    \n",
    "    Returns\n",
    "    -------\n",
    "    bag_of_words: scipy sparse matrix\n",
    "        scipy sparse matrix of text\n",
    "    features:\n",
    "        ls of words\n",
    "    \"\"\"\n",
    "    #parameters for vectorizer \n",
    "    ANALYZER = \"word\" #unit of features are single words rather then phrases of words \n",
    "    STRIP_ACCENTS = 'unicode'\n",
    "     \n",
    "    if stem:\n",
    "        tokenize = lambda x: [stemmer.stem(i) for i in x.split()]\n",
    "    else:\n",
    "        tokenize = None\n",
    "    vectorizer = CountVectorizer(analyzer=ANALYZER,\n",
    "                                tokenizer=tokenize, \n",
    "                                ngram_range=NGRAM_RANGE,\n",
    "                                stop_words = stop_words,\n",
    "                                strip_accents=STRIP_ACCENTS,\n",
    "                                min_df = MIN_DF,\n",
    "                                max_df = MAX_DF)\n",
    "    \n",
    "    bag_of_words = vectorizer.fit_transform( corpus ) #transform our corpus is a bag of words \n",
    "    features = vectorizer.get_feature_names()\n",
    "\n",
    "    if USE_IDF:\n",
    "        NORM = None #turn on normalization flag\n",
    "        SMOOTH_IDF = True #prvents division by zero errors\n",
    "        SUBLINEAR_IDF = True #replace TF with 1 + log(TF)\n",
    "        transformer = TfidfTransformer(norm = NORM,smooth_idf = SMOOTH_IDF,sublinear_tf = True)\n",
    "        #get the bag-of-words from the vectorizer and\n",
    "        #then use TFIDF to limit the tokens found throughout the text \n",
    "        tfidf = transformer.fit_transform(bag_of_words)\n",
    "        \n",
    "        return tfidf, features\n",
    "    else:\n",
    "        return bag_of_words, features"
   ]
  },
  {
   "cell_type": "code",
   "execution_count": 84,
   "metadata": {
    "collapsed": true
   },
   "outputs": [],
   "source": [
    "def get_word_counts(bag_of_words, feature_names):\n",
    "    \"\"\"\n",
    "    Get the ordered word counts from a bag_of_words\n",
    "    \n",
    "    Parameters\n",
    "    ----------\n",
    "    bag_of_words: obj\n",
    "        scipy sparse matrix from CounterVectorizer\n",
    "    feature_names: ls\n",
    "        list of words\n",
    "        \n",
    "    Returns\n",
    "    -------\n",
    "    word_counts: dict\n",
    "        Dictionary of word counts\n",
    "    \"\"\"\n",
    "    np_bag_of_words = bag_of_words.toarray()\n",
    "    word_count = np.sum(np_bag_of_words,axis=0)\n",
    "    np_word_count = np.asarray(word_count).ravel()\n",
    "    dict_word_counts = dict( zip(feature_names, np_word_count) )\n",
    "    \n",
    "    orddict_word_counts = OrderedDict( \n",
    "                                    sorted(dict_word_counts.items(), key=lambda x: x[1], reverse=True), )\n",
    "    \n",
    "    return orddict_word_counts"
   ]
  },
  {
   "cell_type": "code",
   "execution_count": 85,
   "metadata": {
    "collapsed": true
   },
   "outputs": [],
   "source": [
    "corpus = df[\"review_text\"]"
   ]
  },
  {
   "cell_type": "code",
   "execution_count": 91,
   "metadata": {
    "collapsed": true
   },
   "outputs": [],
   "source": [
    "#Stop word list\n",
    "eng_stopwords =  stopwords.words('english')\n",
    "\n",
    "#get rid of the punctuations and set all characters to lowercase\n",
    "RE_PREPROCESS = r'\\W+|\\d+' #the regular expressions that matches all non-characters\n",
    "stemmer = PorterStemmer()"
   ]
  },
  {
   "cell_type": "code",
   "execution_count": 92,
   "metadata": {
    "collapsed": true
   },
   "outputs": [],
   "source": [
    "#Retrieve words and lowercase them\n",
    "processed_corpus = np.array( [ re.sub(RE_PREPROCESS, ' ', comment).lower() for comment in corpus] )"
   ]
  },
  {
   "cell_type": "code",
   "execution_count": 225,
   "metadata": {
    "collapsed": true
   },
   "outputs": [],
   "source": [
    "# Sentiment analysis with AFINN\n",
    "afinn = Afinn()\n",
    "afinn_scores = [afinn.score(text) for text in df.review_text]\n",
    "df['afinn'] = afinn_scores"
   ]
  },
  {
   "cell_type": "code",
   "execution_count": 227,
   "metadata": {},
   "outputs": [
    {
     "data": {
      "text/plain": [
       "array([[<matplotlib.axes._subplots.AxesSubplot object at 0x1aae4c67b8>]], dtype=object)"
      ]
     },
     "execution_count": 227,
     "metadata": {},
     "output_type": "execute_result"
    },
    {
     "data": {
      "image/png": "[encoded data removed]",
      "text/plain": [
       "<matplotlib.figure.Figure at 0x1a236317f0>"
      ]
     },
     "metadata": {},
     "output_type": "display_data"
    }
   ],
   "source": [
    "df.hist(column='afinn')"
   ]
  },
  {
   "cell_type": "code",
   "execution_count": 232,
   "metadata": {},
   "outputs": [
    {
     "data": {
      "text/plain": [
       "167128.0"
      ]
     },
     "execution_count": 232,
     "metadata": {},
     "output_type": "execute_result"
    }
   ],
   "source": [
    "np.sum(df['afinn'])"
   ]
  },
  {
   "cell_type": "code",
   "execution_count": null,
   "metadata": {
    "collapsed": true
   },
   "outputs": [],
   "source": [
    "afinn_scores.`"
   ]
  },
  {
   "cell_type": "code",
   "execution_count": 94,
   "metadata": {
    "collapsed": true
   },
   "outputs": [],
   "source": [
    "#Get bag of words with stemming, removing stop words and TFIDF vector\n",
    "processed_bag_of_words, processed_features = create_bag_of_words(processed_corpus,\n",
    "                                                                 stop_words=eng_stopwords,\n",
    "                                                                 stem=True,\n",
    "                                                                 NGRAM_RANGE=(0,2),\n",
    "                                                                 USE_IDF = True)\n"
   ]
  },
  {
   "cell_type": "code",
   "execution_count": 95,
   "metadata": {
    "collapsed": true
   },
   "outputs": [],
   "source": [
    "#Get word counts\n",
    "dict_processed_word_counts = get_word_counts(processed_bag_of_words, processed_features)"
   ]
  },
  {
   "cell_type": "code",
   "execution_count": 97,
   "metadata": {},
   "outputs": [
    {
     "data": {
      "text/plain": [
       "OrderedDict([('use', 20176.02764670282),\n",
       "             ('printer', 19592.250189196962),\n",
       "             ('print', 18409.795381346888),\n",
       "             ('wa', 16807.583008076246),\n",
       "             ('one', 16387.538592702556),\n",
       "             ('paper', 14780.491292111594),\n",
       "             ('veri', 13812.973681595393),\n",
       "             ('like', 13789.446386006301),\n",
       "             ('work', 13484.119637998592),\n",
       "             ('ink', 12826.30240780504),\n",
       "             ('get', 12560.534884023036),\n",
       "             ('need', 12444.042537174681),\n",
       "             ('color', 12333.223066667513),\n",
       "             ('ha', 12176.3035471617),\n",
       "             ('time', 11842.107550721972),\n",
       "             ('would', 11819.499681296193),\n",
       "             ('good', 11522.870902680499),\n",
       "             ('well', 11381.749883885406),\n",
       "             ('also', 11294.119172790895),\n",
       "             ('set', 11115.623960705982),\n",
       "             ('make', 11065.562094644505),\n",
       "             ('qualiti', 10944.795178886348),\n",
       "             ('onli', 10865.376765603731),\n",
       "             ('easi', 10864.526990649834),\n",
       "             ('scan', 10712.809697848323),\n",
       "             ('great', 10286.674985502148),\n",
       "             ('photo', 10125.016300044343),\n",
       "             ('cartridg', 10074.75086526369),\n",
       "             ('look', 9991.0043665729845),\n",
       "             ('page', 9688.9796919004548),\n",
       "             ('much', 9568.8793900691817),\n",
       "             ('realli', 9407.2004192621862),\n",
       "             ('even', 9366.3844739718497),\n",
       "             ('product', 9309.2013434692817),\n",
       "             ('want', 9263.8605127035025),\n",
       "             ('doe', 9200.4255756800085),\n",
       "             ('go', 9195.2821571034819),\n",
       "             ('thing', 9028.7843703681538),\n",
       "             ('becaus', 8913.7702070860269),\n",
       "             ('ani', 8903.2568810454977),\n",
       "             ('epson', 8847.1149024222232),\n",
       "             ('price', 8835.5375909462309),\n",
       "             ('nice', 8761.896061291307),\n",
       "             ('tri', 8543.793092942622),\n",
       "             ('come', 8487.8772925466292),\n",
       "             ('featur', 8445.6228814875776),\n",
       "             ('thi printer', 8320.4145167735278),\n",
       "             ('size', 8261.3823475581466),\n",
       "             ('two', 8258.7907675107635),\n",
       "             ('back', 8247.9448961092603),\n",
       "             ('littl', 8236.866898597782),\n",
       "             ('pen', 8151.7136283949958),\n",
       "             ('label', 8097.2503786203624),\n",
       "             ('document', 8081.0323266357318),\n",
       "             ('instal', 8061.9007037765914),\n",
       "             ('scanner', 8037.7683654535558),\n",
       "             ('first', 7996.8193780792808),\n",
       "             ('softwar', 7986.3363819559663),\n",
       "             ('take', 7942.0025042888165),\n",
       "             ('problem', 7897.0417513581724),\n",
       "             ('small', 7758.114914242552),\n",
       "             ('black', 7719.9218282932698),\n",
       "             ('lot', 7707.4231402940968),\n",
       "             ('side', 7646.2670694662556),\n",
       "             ('year', 7639.7583013538024),\n",
       "             ('comput', 7636.1005626406031),\n",
       "             ('offic', 7565.5464624360711),\n",
       "             ('home', 7507.9920793368074),\n",
       "             ('could', 7437.9874796643435),\n",
       "             ('better', 7418.9389755490974),\n",
       "             ('wireless', 7413.0066284992554),\n",
       "             ('way', 7336.0169359340871),\n",
       "             ('seem', 7334.0524349813131),\n",
       "             ('review', 7289.9433310119157),\n",
       "             ('sheet', 7276.1989513837016),\n",
       "             ('box', 7240.8625971130305),\n",
       "             ('still', 7187.7999912327086),\n",
       "             ('find', 7110.603776826315),\n",
       "             ('includ', 7087.8629191305108),\n",
       "             ('differ', 7025.9582771575424),\n",
       "             ('put', 6984.5627018980094),\n",
       "             ('x', 6949.5957467558164),\n",
       "             ('see', 6928.3899391662226),\n",
       "             ('without', 6920.3799822751789),\n",
       "             ('machin', 6909.8677162253171),\n",
       "             ('bit', 6872.8288854997209),\n",
       "             ('recommend', 6852.5557889789134),\n",
       "             ('hp', 6802.890742532777),\n",
       "             ('mani', 6768.9128884287593),\n",
       "             ('buy', 6703.8633777844771),\n",
       "             ('think', 6689.3105918594829),\n",
       "             ('phone', 6685.4956424661641),\n",
       "             ('connect', 6609.204302694312),\n",
       "             ('tape', 6582.833836217028),\n",
       "             ('copi', 6424.3915686970304),\n",
       "             ('say', 6421.9409110748138),\n",
       "             ('long', 6398.376225898488),\n",
       "             ('hold', 6384.0502827987966),\n",
       "             ('canon', 6354.0987426124584),\n",
       "             ('write', 6330.6656311433826),\n",
       "             ('howev', 6302.5612383184143),\n",
       "             ('new', 6286.3905525310875),\n",
       "             ('unit', 6244.7450712977243),\n",
       "             ('cost', 6187.8727405611044),\n",
       "             ('run', 6180.095943006263),\n",
       "             ('sinc', 6177.2063273427902),\n",
       "             ('love', 6147.0681796070585),\n",
       "             ('right', 6115.4843686268559),\n",
       "             ('keep', 6110.7043012599488),\n",
       "             ('enough', 6104.9024021929263),\n",
       "             ('replac', 6076.5790843431469),\n",
       "             ('know', 6075.8426511867592),\n",
       "             ('usb', 6060.7924167639794),\n",
       "             ('fax', 6056.390459931903),\n",
       "             ('easili', 6055.8606216548678),\n",
       "             ('tray', 6005.5766289142548),\n",
       "             ('note', 5920.4611807518413),\n",
       "             ('line', 5914.3327522226464),\n",
       "             ('last', 5855.1045644119313),\n",
       "             ('high', 5826.8941276325213),\n",
       "             ('fine', 5820.8928941955428),\n",
       "             ('old', 5820.1243722625732),\n",
       "             ('though', 5813.1161274140304),\n",
       "             ('plastic', 5809.9745670202437),\n",
       "             ('may', 5782.5133585531057),\n",
       "             ('function', 5776.7719978428922),\n",
       "             ('befor', 5776.2206969424506),\n",
       "             ('less', 5769.2220725109173),\n",
       "             ('made', 5750.4962812704607),\n",
       "             ('someth', 5730.2194681783667),\n",
       "             ('card', 5717.7164461948496),\n",
       "             ('network', 5715.8399733279384),\n",
       "             ('design', 5709.5490096965723),\n",
       "             ('around', 5699.5760885252175),\n",
       "             ('give', 5686.2908939446552),\n",
       "             ('found', 5641.3649816048855),\n",
       "             ('onc', 5639.424251370584),\n",
       "             ('anoth', 5634.5868372359291),\n",
       "             ('larg', 5602.903493824846),\n",
       "             ('minut', 5597.4935567168504),\n",
       "             ('sure', 5596.7712588035756),\n",
       "             ('place', 5566.4539176317785),\n",
       "             ('abl', 5545.0493056228006),\n",
       "             ('pretti', 5524.2293150912565),\n",
       "             ('start', 5459.4913245544467),\n",
       "             ('setup', 5438.6804473236944),\n",
       "             ('quit', 5425.8921758322922),\n",
       "             ('hand', 5421.3807137102212),\n",
       "             ('far', 5414.485786329029),\n",
       "             ('button', 5378.888568418146),\n",
       "             ('top', 5369.2326790013558),\n",
       "             ('day', 5368.0693185456494),\n",
       "             ('devic', 5331.0363598410668),\n",
       "             ('open', 5322.654107651595),\n",
       "             ('star', 5312.8578707738707),\n",
       "             ('purchas', 5275.4035204072206),\n",
       "             ('option', 5256.6928421862749),\n",
       "             ('issu', 5207.4726926909916),\n",
       "             ('feel', 5201.0522245790571),\n",
       "             ('amazon', 5163.5622193762965),\n",
       "             ('point', 5161.7045915190547),\n",
       "             ('end', 5160.0173196745782),\n",
       "             ('fast', 5156.2930208252346),\n",
       "             ('file', 5149.1611509180111),\n",
       "             ('got', 5139.2740932377737),\n",
       "             ('big', 5137.5538399673751),\n",
       "             ('thi one', 5135.3902082637424),\n",
       "             ('actual', 5134.7652268319953),\n",
       "             ('job', 5116.3325334662231),\n",
       "             ('never', 5115.5944984728067),\n",
       "             ('best', 5083.7072905356999),\n",
       "             ('packag', 5053.3641817495491),\n",
       "             ('test', 4991.7512787198748),\n",
       "             ('remov', 4979.1169186329635),\n",
       "             ('light', 4977.6387303982592),\n",
       "             ('alway', 4967.59464751625),\n",
       "             ('desk', 4965.5192036941025),\n",
       "             ('item', 4919.2086580696587),\n",
       "             ('pencil', 4908.1413692024726),\n",
       "             ('save', 4882.6026897424817),\n",
       "             ('type', 4852.860646963627),\n",
       "             ('read', 4851.4968809849524),\n",
       "             ('ink cartridg', 4849.3560527255513),\n",
       "             ('number', 4835.5185674787444),\n",
       "             ('cabl', 4824.5075684413687),\n",
       "             ('use thi', 4815.9967605781303),\n",
       "             ('help', 4771.8257450880456),\n",
       "             ('turn', 4754.2996327412775),\n",
       "             ('call', 4749.5122847014272),\n",
       "             ('clear', 4740.5406395656082),\n",
       "             ('everi', 4738.232664749029),\n",
       "             ('expect', 4729.1786122685689),\n",
       "             ('overal', 4719.4979311023289),\n",
       "             ('power', 4691.5899120504391),\n",
       "             ('model', 4685.4656472660708),\n",
       "             ('might', 4642.5398691886567),\n",
       "             ('screen', 4638.0688008797388),\n",
       "             ('pictur', 4637.2772104420546),\n",
       "             ('expens', 4620.4600575837394),\n",
       "             ('sever', 4616.0268937891205),\n",
       "             ('allow', 4611.4255261599174),\n",
       "             ('instruct', 4589.7718145828876),\n",
       "             ('pro', 4585.6147117739192),\n",
       "             ('reason', 4585.0431510412045),\n",
       "             ('excel', 4581.5837076770622),\n",
       "             ('store', 4577.7642599856017),\n",
       "             ('updat', 4570.172052615033),\n",
       "             ('laser', 4568.6329344602382),\n",
       "             ('user', 4530.7379460518223),\n",
       "             ('simpl', 4527.259552346336),\n",
       "             ('white', 4511.9939791208899),\n",
       "             ('second', 4506.1221858219114),\n",
       "             ('cut', 4497.2069545854174),\n",
       "             ('manual', 4459.8831215998534),\n",
       "             ('busi', 4429.6130983001331),\n",
       "             ('window', 4409.4041240183224),\n",
       "             ('everyth', 4397.2651381143569),\n",
       "             ('perfect', 4379.0436929856196),\n",
       "             ('standard', 4368.6128512128562),\n",
       "             ('imag', 4366.265019208673),\n",
       "             ('support', 4361.1775721154281),\n",
       "             ('inch', 4337.4030524941209),\n",
       "             ('fit', 4330.7583014922666),\n",
       "             ('piec', 4315.3005139902707),\n",
       "             ('driver', 4300.5628156644125),\n",
       "             ('requir', 4293.7149171962537),\n",
       "             ('hard', 4274.7938621717867),\n",
       "             ('compar', 4265.1427457218197),\n",
       "             ('took', 4261.4396923905761),\n",
       "             ('quickli', 4260.8681596615179),\n",
       "             ('part', 4247.6500883641738),\n",
       "             ('cover', 4241.3805991502431),\n",
       "             ('pack', 4240.5440810107129),\n",
       "             ('peopl', 4238.653462620915),\n",
       "             ('heavi', 4229.5065741966573),\n",
       "             ('order', 4220.3784918138945),\n",
       "             ('space', 4218.9104603524529),\n",
       "             ('probabl', 4212.4973585799607),\n",
       "             ('etc', 4206.4722036863568),\n",
       "             ('text', 4200.7473712986257),\n",
       "             ('either', 4199.7803735665348),\n",
       "             ('front', 4177.2505105962955),\n",
       "             ('speed', 4147.0510803884099),\n",
       "             ('stick', 4120.0702535833561),\n",
       "             ('base', 4094.1201232448798),\n",
       "             ('result', 4076.0111951784193),\n",
       "             ('full', 4067.1975216649948),\n",
       "             ('chang', 4048.9039010130991),\n",
       "             ('system', 4043.7613408302263),\n",
       "             ('month', 4030.4671934498065),\n",
       "             ('three', 4026.6203029985995),\n",
       "             ('thi product', 4024.5375230960167),\n",
       "             ('move', 4007.311975558222),\n",
       "             ('cd', 3984.6853958676429),\n",
       "             ('lamin', 3984.2799301120581),\n",
       "             ('person', 3981.3390539141897),\n",
       "             ('almost', 3973.1183555035595),\n",
       "             ('case', 3946.087177923021),\n",
       "             ('touch', 3943.2010879445052),\n",
       "             ('mean', 3939.918996657912),\n",
       "             ('although', 3937.3693129347225),\n",
       "             ('anyth', 3927.3514078936337),\n",
       "             ('inkjet', 3925.8570148777044),\n",
       "             ('bought', 3925.1357459743958),\n",
       "             ('folder', 3920.1868190443456),\n",
       "             ('brother', 3913.2324145499715),\n",
       "             ('binder', 3900.7020929270698),\n",
       "             ('came', 3896.079612331981),\n",
       "             ('brand', 3876.0836820195605),\n",
       "             ('quick', 3872.870737066839),\n",
       "             ('yet', 3856.6054359427349),\n",
       "             ('mac', 3844.7114710284527),\n",
       "             ('let', 3789.4667478667311),\n",
       "             ('basic', 3780.5241792122474),\n",
       "             ('thought', 3776.8430651415306),\n",
       "             ('handl', 3753.0825119435676),\n",
       "             ('book', 3737.6564399056911),\n",
       "             ('away', 3724.2094057767758),\n",
       "             ('avail', 3720.1778420909477),\n",
       "             ('regular', 3706.0419028797464),\n",
       "             ('automat', 3703.8765134814103),\n",
       "             ('provid', 3679.6671373490526),\n",
       "             ('whi', 3673.7387123509584),\n",
       "             ('batteri', 3664.8690395361414),\n",
       "             ('done', 3657.912826384761),\n",
       "             ('bottom', 3655.1010372190945),\n",
       "             ('per', 3624.9671823993881),\n",
       "             ('load', 3619.9431887634814),\n",
       "             ('happi', 3616.8027480366936),\n",
       "             ('receiv', 3615.2673289295631),\n",
       "             ('post', 3609.9450409055398),\n",
       "             ('surfac', 3605.0367605386919),\n",
       "             ('close', 3589.5731856517709),\n",
       "             ('pad', 3578.1412987816439),\n",
       "             ('show', 3574.1752001079903),\n",
       "             ('fact', 3565.3555031648966),\n",
       "             ('free', 3552.4534749519153),\n",
       "             ('print qualiti', 3551.5502532243399),\n",
       "             ('extra', 3549.4451100214137),\n",
       "             ('especi', 3544.9670590816067),\n",
       "             ('feed', 3536.6850082516962),\n",
       "             ('pc', 3532.8171469095728),\n",
       "             ('rather', 3531.9331606202636),\n",
       "             ('gener', 3523.0057118460027),\n",
       "             ('room', 3512.066993186791),\n",
       "             ('impress', 3500.9017481534734),\n",
       "             ('comfort', 3493.6609236707845),\n",
       "             ('work well', 3473.3305511978742),\n",
       "             ('definit', 3471.5716481522568),\n",
       "             ('money', 3471.2150833140122),\n",
       "             ('ever', 3466.6141390539783),\n",
       "             ('least', 3455.4224191416338),\n",
       "             ('complet', 3447.7447505034256),\n",
       "             ('pull', 3446.3423037505409),\n",
       "             ('highli', 3435.447768481969),\n",
       "             ('instead', 3430.6225831502707),\n",
       "             ('larger', 3424.1876827265546),\n",
       "             ('addit', 3405.3002346142921),\n",
       "             ('plug', 3404.8009913757842),\n",
       "             ('adjust', 3402.9606685614358),\n",
       "             ('coupl', 3392.5662555199187),\n",
       "             ('cheap', 3386.802516082023),\n",
       "             ('easi use', 3377.1574443675913),\n",
       "             ('offer', 3369.4456216365734),\n",
       "             ('slide', 3356.3457230383156),\n",
       "             ('clean', 3355.0428309085037),\n",
       "             ('tell', 3351.8557239379861),\n",
       "             ('plu', 3350.5263061203018),\n",
       "             ('control', 3344.9217433435433),\n",
       "             ('kind', 3343.3792964841491),\n",
       "             ('sharpen', 3342.7965251175183),\n",
       "             ('easier', 3335.0641717899657),\n",
       "             ('laptop', 3311.9258610631532),\n",
       "             ('process', 3308.2748876550613),\n",
       "             ('jam', 3307.172601430098),\n",
       "             ('dri', 3289.7957833825658),\n",
       "             ('smaller', 3285.4338204276191),\n",
       "             ('pleas', 3274.2813654385059),\n",
       "             ('display', 3271.7183115268631),\n",
       "             ('prefer', 3270.1878497640105),\n",
       "             ('low', 3263.9749924790772),\n",
       "             ('tab', 3261.1048608549918),\n",
       "             ('worth', 3256.9370851467393),\n",
       "             ('longer', 3253.4939545944776),\n",
       "             ('shredder', 3250.344887163169),\n",
       "             ('separ', 3247.1415677610435),\n",
       "             ('ship', 3245.977988527738),\n",
       "             ('usual', 3219.7887829572769),\n",
       "             ('consid', 3217.4182322475867),\n",
       "             ('deal', 3211.5010721860922),\n",
       "             ('add', 3205.5031639511672),\n",
       "             ('notic', 3194.6747832990077),\n",
       "             ('hous', 3184.494222932256),\n",
       "             ('often', 3177.8659158454266),\n",
       "             ('next', 3173.362938013146),\n",
       "             ('download', 3171.3817442032732),\n",
       "             ('perform', 3165.5571468618009),\n",
       "             ('final', 3160.6252603414769),\n",
       "             ('photo paper', 3148.5256232453594),\n",
       "             ('four', 3140.9025196879179),\n",
       "             ('capabl', 3131.2952356268938),\n",
       "             ('simpli', 3128.4686132309516),\n",
       "             ('said', 3119.7194463306951),\n",
       "             ('experi', 3113.6961305870968),\n",
       "             ('must', 3106.5937381063968),\n",
       "             ('sturdi', 3089.6280367798781),\n",
       "             ('program', 3089.1750920335176),\n",
       "             ('noth', 3087.0428100866975),\n",
       "             ('togeth', 3085.8369222200649),\n",
       "             ('figur', 3080.8553676739816),\n",
       "             ('singl', 3065.1664377415614),\n",
       "             ('import', 3054.8998606259361),\n",
       "             ('insid', 3054.2461773220639),\n",
       "             ('bad', 3045.5555607438027),\n",
       "             ('directli', 3043.4108330132349),\n",
       "             ('direct', 3035.4438531993214),\n",
       "             ('check', 3033.1455850962748),\n",
       "             ('rate', 3015.0599365596377),\n",
       "             ('built', 3009.5328247643924),\n",
       "             ('laser printer', 3003.2784759650694),\n",
       "             ('care', 3000.9113532059691),\n",
       "             ('leav', 2994.9375748486791),\n",
       "             ('sit', 2993.3816096116252),\n",
       "             ('fairli', 2988.4250812066607),\n",
       "             ('edg', 2988.3283546370881),\n",
       "             ('alreadi', 2982.8143444257903),\n",
       "             ('paper tray', 2982.5452854543646),\n",
       "             ('toner', 2981.409147835102),\n",
       "             ('stand', 2978.5457646686209),\n",
       "             ('weight', 2977.784872008966),\n",
       "             ('went', 2973.9170212220783),\n",
       "             ('appear', 2971.5004073077162),\n",
       "             ('follow', 2960.7908157986171),\n",
       "             ('thick', 2952.5095396958764),\n",
       "             ('servic', 2950.7597484798498),\n",
       "             ('ring', 2947.9521281094158),\n",
       "             ('suppli', 2945.1790266545695),\n",
       "             ('home offic', 2942.6536355139137),\n",
       "             ('usb cabl', 2942.2536618507879),\n",
       "             ('choic', 2941.2637471848784),\n",
       "             ('profession', 2940.700236454476),\n",
       "             ('custom', 2933.3847504987621),\n",
       "             ('oper', 2929.473911299081),\n",
       "             ('mode', 2924.8929790559055),\n",
       "             ('week', 2924.4794237042506),\n",
       "             ('name', 2917.5285833220355),\n",
       "             ('origin', 2915.2723051853131),\n",
       "             ('rest', 2913.6657243961927),\n",
       "             ('via', 2911.4120505112751),\n",
       "             ('like thi', 2907.1350983193815),\n",
       "             ('press', 2906.277678863592),\n",
       "             ('half', 2904.393406985505),\n",
       "             ('hope', 2901.6355627126636),\n",
       "             ('letter', 2899.4139261684745),\n",
       "             ('b', 2888.835192192219),\n",
       "             ('normal', 2888.1104140194966),\n",
       "             ('decid', 2887.9523094474271),\n",
       "             ('select', 2887.065789282909),\n",
       "             ('area', 2884.1167256149984),\n",
       "             ('blue', 2878.5418568003047),\n",
       "             ('highli recommend', 2872.7284922809959),\n",
       "             ('black white', 2869.8071984356993),\n",
       "             ('left', 2864.5666728279912),\n",
       "             ('tip', 2862.49557770807),\n",
       "             ('list', 2861.691042425904),\n",
       "             ('school', 2849.1061826770724),\n",
       "             ('feeder', 2844.2241371502605),\n",
       "             ('pdf', 2840.529227722594),\n",
       "             ('refil', 2832.6269043077814),\n",
       "             ('capac', 2820.6655963059588),\n",
       "             ('perfectli', 2820.4822748410666),\n",
       "             ('cours', 2817.6726938618112),\n",
       "             ('stapl', 2809.4107049549484),\n",
       "             ('organ', 2805.773316839146),\n",
       "             ('amount', 2803.1667554848559),\n",
       "             ('stay', 2803.1060390186231),\n",
       "             ('conveni', 2802.6573648556741),\n",
       "             ('wide', 2791.2713162287346),\n",
       "             ('insert', 2790.6298451710295),\n",
       "             ('version', 2790.1556600157378),\n",
       "             ('envelop', 2782.5277069072999),\n",
       "             ('dispens', 2778.9332963004936),\n",
       "             ('doubl', 2773.3400271138926),\n",
       "             ('slightli', 2762.5839559333904),\n",
       "             ('word', 2759.0391426748233),\n",
       "             ('real', 2750.5970716962474),\n",
       "             ('memori', 2746.9050643317219),\n",
       "             ('rang', 2742.8566988014386),\n",
       "             ('marker', 2735.4552567009905),\n",
       "             ('send', 2727.7401786820014),\n",
       "             ('workforc', 2721.6422006680796),\n",
       "             ('mayb', 2716.8327488120908),\n",
       "             ('pay', 2715.4635554212664),\n",
       "             ('cannot', 2715.3423538821235),\n",
       "             ('hour', 2714.7589466823279),\n",
       "             ('duplex', 2714.5778840153262),\n",
       "             ('solid', 2713.6258166259399),\n",
       "             ('veri easi', 2702.1689112160448),\n",
       "             ('multipl', 2700.8546515368457),\n",
       "             ('wifi', 2699.1851422644909),\n",
       "             ('pocket', 2698.6427639480835),\n",
       "             ('past', 2690.6882593991872),\n",
       "             ('project', 2690.5536410267573),\n",
       "             ('produc', 2686.647619567213),\n",
       "             ('attach', 2684.2621641558417),\n",
       "             ('veri good', 2683.154015464298),\n",
       "             ('roll', 2682.2503356597776),\n",
       "             ('level', 2672.8656563804198),\n",
       "             ('chair', 2669.7247079283798),\n",
       "             ('wish', 2665.8941339846692),\n",
       "             ('someon', 2664.4443984381269),\n",
       "             ('sound', 2664.1863138131434),\n",
       "             ('limit', 2653.248092087742),\n",
       "             ('sometim', 2652.6251497046273),\n",
       "             ('cord', 2650.3842228920657),\n",
       "             ('photo print', 2644.8609655787473),\n",
       "             ('smooth', 2642.6577791414206),\n",
       "             ('kid', 2640.3162818131891),\n",
       "             ('wonder', 2639.1687815637583),\n",
       "             ('wait', 2629.9073687339192),\n",
       "             ('handi', 2625.7052321597857),\n",
       "             ('purpos', 2622.6213014339169),\n",
       "             ('materi', 2614.590485072657),\n",
       "             ('wall', 2613.8498944885514),\n",
       "             ('sharp', 2613.4286942347317),\n",
       "             ('guid', 2611.4676983764234),\n",
       "             ('abil', 2605.3896367409252),\n",
       "             ('mention', 2599.1211516502717),\n",
       "             ('life', 2588.5035864387255),\n",
       "             ('unless', 2584.2008655221421),\n",
       "             ('secur', 2576.923852434431),\n",
       "             ('except', 2575.9959339227462),\n",
       "             ('super', 2571.8642808775835),\n",
       "             ('access', 2570.8485883557237),\n",
       "             ('posit', 2569.0664402426328),\n",
       "             ('eras', 2564.8911049171365),\n",
       "             ('difficult', 2562.477011237097),\n",
       "             ('copier', 2559.3145795203068),\n",
       "             ('veri well', 2550.0071700415715),\n",
       "             ('step', 2545.7518736311094),\n",
       "             ('address', 2545.4138501928419),\n",
       "             ('five', 2537.6629026447272),\n",
       "             ('extrem', 2531.1024903098833),\n",
       "             ('goe', 2522.5761652602782),\n",
       "             ('shred', 2520.9317659865233),\n",
       "             ('pick', 2511.7801708719144),\n",
       "             ('wast', 2508.3606819786974),\n",
       "             ('compani', 2505.2126384824905),\n",
       "             ('anyon', 2504.9991204556982),\n",
       "             ('non', 2502.2368736826384),\n",
       "             ('work great', 2492.680134948976),\n",
       "             ('push', 2486.8011907479054),\n",
       "             ('stuff', 2485.7189133287793),\n",
       "             ('manufactur', 2484.8989798710104),\n",
       "             ('output', 2481.990478174198),\n",
       "             ('readi', 2473.8001202174632),\n",
       "             ('valu', 2465.2663546871736),\n",
       "             ('idea', 2463.2721325117573),\n",
       "             ('happen', 2459.3369068814491),\n",
       "             ('creat', 2447.1895325766932),\n",
       "             ('mark', 2432.122535104661),\n",
       "             ('wa abl', 2430.1661785713636),\n",
       "             ('fold', 2429.5410954370682),\n",
       "             ('initi', 2428.4757236262467),\n",
       "             ('mail', 2425.0423673905011),\n",
       "             ('cheaper', 2423.0369368732036),\n",
       "             ('desktop', 2411.0050321098433),\n",
       "             ('email', 2409.7623610467567),\n",
       "             ('print photo', 2409.1187452440754),\n",
       "             ('compact', 2407.2752212323521),\n",
       "             ('mous', 2406.9627208496368),\n",
       "             ('ad', 2406.3109311869089),\n",
       "             ('us', 2405.2021752650112),\n",
       "             ('bright', 2400.9342221754018),\n",
       "             ('adhes', 2399.2148128419581),\n",
       "             ('durabl', 2397.624427214806),\n",
       "             ('recommend thi', 2387.9106971052288),\n",
       "             ('ago', 2387.5300523352348),\n",
       "             ('printer wa', 2385.6330930973604),\n",
       "             ('sticki', 2379.4274330220228),\n",
       "             ('present', 2377.6171972295151),\n",
       "             ('w', 2376.8946479012075),\n",
       "             ('possibl', 2369.3653826292002),\n",
       "             ('complaint', 2365.3896273469763),\n",
       "             ('current', 2363.0478021865183),\n",
       "             ('surpris', 2356.7658428511422),\n",
       "             ('cool', 2354.6554242217821),\n",
       "             ('head', 2352.8954100752603),\n",
       "             ('faster', 2342.5975554737706),\n",
       "             ('huge', 2341.7778742117662),\n",
       "             ('wa veri', 2333.9503594899325),\n",
       "             ('strip', 2331.4928268266117),\n",
       "             ('panel', 2331.284409588558),\n",
       "             ('ok', 2331.1754937401506),\n",
       "             ('disappoint', 2324.4377717020766),\n",
       "             ('thi wa', 2313.6174526444893),\n",
       "             ('onlin', 2311.1925628587574),\n",
       "             ('ask', 2307.7341340010289),\n",
       "             ('later', 2306.4904891225606),\n",
       "             ('similar', 2302.7906191829861),\n",
       "             ('menu', 2298.7817708078178),\n",
       "             ('answer', 2296.3266464749563),\n",
       "             ('high qualiti', 2296.0511853800349),\n",
       "             ('stop', 2296.0475582017621),\n",
       "             ('keyboard', 2294.1298204809741),\n",
       "             ('flat', 2291.6939486632295),\n",
       "             ('decent', 2291.2105073240018),\n",
       "             ('slow', 2291.1993472575741),\n",
       "             ('lcd', 2289.9602905637885),\n",
       "             ('averi', 2286.9138924670015),\n",
       "             ('whole', 2282.0948634840561),\n",
       "             ('exactli', 2281.8273705216311),\n",
       "             ('lower', 2280.6732818530318),\n",
       "             ('choos', 2271.363546135929),\n",
       "             ('app', 2270.9963099571273),\n",
       "             ('break', 2269.9698941579195),\n",
       "             ('short', 2269.041278396729),\n",
       "             ('auto', 2266.5358695957707),\n",
       "             ('higher', 2264.3787277873175),\n",
       "             ('xp', 2261.4262748094789),\n",
       "             ('eas', 2260.46611657728),\n",
       "             ('neg', 2260.4544876408022),\n",
       "             ('click', 2260.4304309015379),\n",
       "             ('finish', 2259.0745252670131),\n",
       "             ('strong', 2258.9788223631676),\n",
       "             ('wrong', 2258.7375534940552),\n",
       "             ('improv', 2252.995395631976),\n",
       "             ('wa easi', 2252.0372934482557),\n",
       "             ('router', 2251.4908627255359),\n",
       "             ('detail', 2251.2379002040489),\n",
       "             ('carri', 2249.240598456493),\n",
       "             ('seen', 2247.3977181885425),\n",
       "             ('inform', 2247.2864612003168),\n",
       "             ('slot', 2239.6869685800125),\n",
       "             ('market', 2239.3992224152944),\n",
       "             ('due', 2232.7212906409504),\n",
       "             ('ye', 2231.8048709250374),\n",
       "             ('format', 2228.2787157686394),\n",
       "             ('dure', 2225.9845790419868),\n",
       "             ('els', 2222.3047040212255),\n",
       "             ('red', 2221.3550929665121),\n",
       "             ('return', 2217.9518358646583),\n",
       "             ('work fine', 2217.6716797064396),\n",
       "             ('variou', 2216.4398022019773),\n",
       "             ('within', 2214.1933845840317),\n",
       "             ('pop', 2213.5433208186764),\n",
       "             ('photograph', 2211.9089470046397),\n",
       "             ('given', 2209.3504336833448),\n",
       "             ('suppos', 2204.8044819399229),\n",
       "             ('key', 2198.3497147397743),\n",
       "             ('spend', 2197.8352494696578),\n",
       "             ('believ', 2187.5650246309492),\n",
       "             ('printer use', 2183.4490614007277),\n",
       "             ('e', 2180.6190898422706),\n",
       "             ('metal', 2179.9645024180459),\n",
       "             ('mind', 2178.8278762172322),\n",
       "             ('entir', 2176.095045991472),\n",
       "             ('rel', 2175.955712230385),\n",
       "             ('applic', 2174.6879734607287),\n",
       "             ('depend', 2173.5017008333698),\n",
       "             ('hang', 2171.7942039267732),\n",
       "             ('plan', 2163.1312203751086),\n",
       "             ('thi great', 2160.4142125610433),\n",
       "             ('scotch', 2158.221268670799),\n",
       "             ('straight', 2157.1594200011891),\n",
       "             ('make sure', 2156.0311444075546),\n",
       "             ('con', 2155.9216580125394),\n",
       "             ('switch', 2154.5046879181518),\n",
       "             ('thin', 2152.716493773989),\n",
       "             ('digit', 2151.9238597019985),\n",
       "             ('messag', 2142.5339426446549),\n",
       "             ('c', 2141.8732218919372),\n",
       "             ('websit', 2134.8435178049531),\n",
       "             ('true', 2133.9891548468668),\n",
       "             ('averag', 2133.3039334299297),\n",
       "             ('contain', 2124.1946224261587),\n",
       "             ('resolut', 2123.0501185207108),\n",
       "             ('printer thi', 2120.9078852006351),\n",
       "             ('total', 2120.5022126830077),\n",
       "             ('matter', 2113.9995143633882),\n",
       "             ('along', 2111.287785900066),\n",
       "             ('thi review', 2111.1436243168837),\n",
       "             ('abov', 2108.9527560073789),\n",
       "             ('beauti', 2105.0345920664568),\n",
       "             ('stack', 2104.9347914323489),\n",
       "             ('wirelessli', 2104.7598067565023),\n",
       "             ('gel', 2095.3757856272809),\n",
       "             ('protect', 2092.2404633292545),\n",
       "             ('storag', 2088.1990510587757),\n",
       "             ('amaz', 2079.1452880399384),\n",
       "             ('drive', 2078.3979040232662),\n",
       "             ('wire', 2075.1922330374605),\n",
       "             ('previou', 2073.0871518193539),\n",
       "             ('older', 2071.6219494926759),\n",
       "             ('veri nice', 2066.8407918482499),\n",
       "             ('fall', 2066.5927925877268),\n",
       "             ('quiet', 2064.3079934196458),\n",
       "             ('special', 2057.8264559236895),\n",
       "             ('sell', 2056.9175589001852),\n",
       "             ('claim', 2056.1402825687551),\n",
       "             ('photo printer', 2054.8321261378619),\n",
       "             ('green', 2051.7172003086334),\n",
       "             ('continu', 2049.3037892427765),\n",
       "             ('mechan', 2047.7381741446275),\n",
       "             ('web', 2044.1554589579935),\n",
       "             ('look like', 2043.2881709955457),\n",
       "             ('thi machin', 2038.5773371088635),\n",
       "             ('guess', 2037.1144514066559),\n",
       "             ('assembl', 2035.8146430120601),\n",
       "             ('yellow', 2035.3904304749888),\n",
       "             ('grip', 2035.3514725051039),\n",
       "             ('becom', 2034.599628000544),\n",
       "             ('drop', 2033.7933138370286),\n",
       "             ('board', 2025.9978458701239),\n",
       "             ('one printer', 2010.5477194837094),\n",
       "             ('famili', 2008.7511055259165),\n",
       "             ('interfac', 2008.3138115688469),\n",
       "             ('thi unit', 2007.5852187466071),\n",
       "             ('dpi', 2006.7546851604732),\n",
       "             ('hole', 2003.9690226269556),\n",
       "             ('annoy', 2000.2090783664078),\n",
       "             ('port', 1994.5559883488013),\n",
       "             ('printer print', 1993.0876478557341),\n",
       "             ('edit', 1992.0161473015669),\n",
       "             ('inkjet printer', 1991.1309716789451),\n",
       "             ('varieti', 1986.3953920285876),\n",
       "             ('pixma', 1981.4607921117638),\n",
       "             ('monitor', 1976.4987887648008),\n",
       "             ('duti', 1972.7297843215381),\n",
       "             ('glue', 1971.9033722779202),\n",
       "             ('exampl', 1969.3319021039667),\n",
       "             ('lack', 1968.5998253245773),\n",
       "             ('glossi', 1965.5397090441882),\n",
       "             ('tabl', 1964.764529961393),\n",
       "             ('main', 1964.3848985790291),\n",
       "             ('immedi', 1963.0850254029087),\n",
       "             ('fellow', 1956.2099992514461),\n",
       "             ('troubl', 1951.8590434426121),\n",
       "             ('fun', 1950.3917268905736),\n",
       "             ('live', 1949.0612289011663),\n",
       "             ('thi scanner', 1943.9468437345965),\n",
       "             ('thank', 1942.1605982322399),\n",
       "             ('whether', 1941.7070660264533),\n",
       "             ('onto', 1940.8899805266008),\n",
       "             ('hook', 1940.773235157438),\n",
       "             ('error', 1940.3711929794144),\n",
       "             ('reliabl', 1937.3920041690269),\n",
       "             ('finger', 1937.1279152125992),\n",
       "             ('wireless network', 1931.5140997785709),\n",
       "             ('printer ha', 1930.8808369484798),\n",
       "             ('doubl side', 1930.647748699969),\n",
       "             ('easi set', 1929.7243576590406),\n",
       "             ('miss', 1925.1959857267238),\n",
       "             ('learn', 1918.5883188955152),\n",
       "             ('even though', 1916.8251912981816),\n",
       "             ('clip', 1916.5597751757714),\n",
       "             ('play', 1914.0503377277375),\n",
       "             ('fix', 1913.1193520275319),\n",
       "             ('understand', 1910.3480959966801),\n",
       "             ('recent', 1908.9018314370401),\n",
       "             ('caus', 1908.7220963942173),\n",
       "             ('nearli', 1906.3838559504213),\n",
       "             ('site', 1905.0511210458294),\n",
       "             ('specif', 1902.7161554031372),\n",
       "             ('multi', 1898.681858613757),\n",
       "             ('sort', 1895.2240417338189),\n",
       "             ('typic', 1890.9666305134572),\n",
       "             ('fill', 1890.2486687857952),\n",
       "             ('realli like', 1888.5701106859101),\n",
       "             ('hi', 1886.4868701052069),\n",
       "             ('ipad', 1885.0737858517862),\n",
       "             ('plain', 1884.9419664498423),\n",
       "             ('absolut', 1876.24048293954),\n",
       "             ('anyway', 1871.3766287795017),\n",
       "             ('compat', 1867.9838557422511),\n",
       "             ('unlik', 1867.476281497326),\n",
       "             ('certainli', 1864.2864077145307),\n",
       "             ('thi thing', 1860.9690357954878),\n",
       "             ('gave', 1859.6795381025986),\n",
       "             ('empti', 1859.0595182021605),\n",
       "             ('accept', 1856.5391201605694),\n",
       "             ('lead', 1854.1527999537764),\n",
       "             ('mount', 1850.5581563389296),\n",
       "             ('tend', 1845.92186585176),\n",
       "             ('worri', 1845.4955549279809),\n",
       "             ('individu', 1844.3409141587074),\n",
       "             ('dark', 1844.0048131864351),\n",
       "             ('iphon', 1841.1724810251239),\n",
       "             ('holder', 1837.6227415323458),\n",
       "             ('occasion', 1832.0418611716111),\n",
       "             ('consum', 1829.5679135903786),\n",
       "             ('favorit', 1826.7898679308648),\n",
       "             ('side print', 1826.5576467268736),\n",
       "             ('portabl', 1817.52997162254),\n",
       "             ('major', 1814.2372233648584),\n",
       "             ('correct', 1811.6035587651829),\n",
       "             ('much better', 1809.3175688013655),\n",
       "             ('suggest', 1808.3732368454655),\n",
       "             ('drawer', 1806.5228364461148),\n",
       "             ('tear', 1804.0175344872553),\n",
       "             ('cardboard', 1803.4766882672095),\n",
       "             ('footprint', 1800.7400940183907),\n",
       "             ('bag', 1800.538600998183),\n",
       "             ('state', 1798.8919932320873),\n",
       "             ('perhap', 1796.0113612077514),\n",
       "             ('long time', 1793.6803065849174),\n",
       "             ('art', 1793.598543071279),\n",
       "             ('camera', 1792.9970603049903),\n",
       "             ('tool', 1790.4152880803713),\n",
       "             ('smoothli', 1790.2065220359393),\n",
       "             ('wrap', 1790.0650580494955),\n",
       "             ('effect', 1789.880211834686),\n",
       "             ('locat', 1789.1766140579175),\n",
       "             ('comment', 1785.993752221422),\n",
       "             ('notebook', 1783.1151913631002),\n",
       "             ('mine', 1777.6680129292499),\n",
       "             ('rememb', 1774.6160623326491),\n",
       "             ('intuit', 1773.8672952241247),\n",
       "             ('default', 1772.2733724631228),\n",
       "             ('feet', 1770.0615433751489),\n",
       "             ('epson workforc', 1765.3516388640949),\n",
       "             ('configur', 1765.0197120807686),\n",
       "             ('style', 1761.4396500338444),\n",
       "             ('seal', 1760.5193568348839),\n",
       "             ('black ink', 1759.3869955077378),\n",
       "             ('perman', 1751.5786809471131),\n",
       "             ('anywher', 1750.6711259043836),\n",
       "             ('otherwis', 1743.0787523720385),\n",
       "             ('qualiti print', 1738.0363402198391),\n",
       "             ('inexpens', 1734.499802473513),\n",
       "             ('frustrat', 1731.2255117093121),\n",
       "             ('unfortun', 1730.6578888690142),\n",
       "             ('report', 1729.430199649812),\n",
       "             ('arriv', 1727.9419497983761),\n",
       "             ('usag', 1722.395505309823),\n",
       "             ('sheet paper', 1721.0425666858828),\n",
       "             ('particular', 1718.1548975705534),\n",
       "             ('practic', 1716.1236157246274),\n",
       "             ('concern', 1710.505683768889),\n",
       "             ('term', 1706.7018364788964),\n",
       "             ('crisp', 1704.7206548196018),\n",
       "             ('stock', 1700.807591801695),\n",
       "             ('shape', 1692.5234708252965),\n",
       "             ('epson printer', 1692.4202377546999),\n",
       "             ('stuck', 1691.8683964185159),\n",
       "             ('height', 1687.0026975400056),\n",
       "             ('fi', 1686.3267246868006),\n",
       "             ('jet', 1686.0840309946577),\n",
       "             ('print scan', 1684.9266830227623),\n",
       "             ('forward', 1684.0304548406714),\n",
       "             ('fan', 1683.5276842240287),\n",
       "             ('graphic', 1679.8958039363833),\n",
       "             ('manag', 1675.6562986947201),\n",
       "             ('somewhat', 1674.1881371801055),\n",
       "             ('realiz', 1670.9882167851461),\n",
       "             ('necessari', 1669.393421054278),\n",
       "             ('talk', 1668.347305714906),\n",
       "             ('dvd', 1666.1210050102102),\n",
       "             ('enter', 1662.5607177082099),\n",
       "             ('g', 1662.5052038052465),\n",
       "             ('angl', 1660.9849603014532),\n",
       "             ('hit', 1659.3514004863605),\n",
       "             ('draw', 1657.9477231526805),\n",
       "             ('document feeder', 1656.9442439571706),\n",
       "             ('charg', 1654.0792182915275),\n",
       "             ('googl', 1653.4339133773192),\n",
       "             ('solut', 1653.1265617904482),\n",
       "             ('advertis', 1651.8432883525129),\n",
       "             ('minor', 1651.8152617811686),\n",
       "             ('technolog', 1650.5285900035831),\n",
       "             ('love thi', 1649.796457715719),\n",
       "             ('wi', 1649.0519349277408),\n",
       "             ('wi fi', 1647.0636120764443),\n",
       "             ('thi veri', 1644.828370309202),\n",
       "             ('task', 1640.5363690964857),\n",
       "             ('memori card', 1639.2639224833383),\n",
       "             ('touch screen', 1635.5534192023099),\n",
       "             ('ethernet', 1626.5071950246174),\n",
       "             ('center', 1626.1448018557171),\n",
       "             ('fail', 1623.2327880927592),\n",
       "             ('local', 1622.5323363008442),\n",
       "             ('two side', 1619.4349002004897),\n",
       "             ('lift', 1618.0458707307203),\n",
       "             ('volum', 1607.5589858641551),\n",
       "             ('rubber', 1607.4000597788781),\n",
       "             ('premium', 1607.3185940868873),\n",
       "             ('snap', 1605.3044346750646),\n",
       "             ('indic', 1604.2481003872526),\n",
       "             ('nois', 1602.5065309747747),\n",
       "             ('view', 1600.8160655778586),\n",
       "             ('search', 1600.6911320244856),\n",
       "             ('door', 1600.1882801875433),\n",
       "             ('flimsi', 1594.0397396680016),\n",
       "             ('lock', 1579.1372722144295),\n",
       "             ('appli', 1578.3083093606958),\n",
       "             ('tini', 1577.8844043890726),\n",
       "             ('internet', 1577.2888389477571),\n",
       "             ('fantast', 1577.0822888876346),\n",
       "             ('third', 1576.564671279149),\n",
       "             ('peel', 1575.3788444855995),\n",
       "             ('would recommend', 1575.3691349693436),\n",
       "             ('dollar', 1566.6262766850853),\n",
       "             ('upgrad', 1561.6416922421813),\n",
       "             ('comparison', 1558.6807680254337),\n",
       "             ('good qualiti', 1557.1991746417716),\n",
       "             ('font', 1553.8436476940362),\n",
       "             ('hp printer', 1552.5639375588812),\n",
       "             ('floor', 1549.9511741200965),\n",
       "             ('construct', 1549.0770161670712),\n",
       "             ('whatev', 1545.73634006765),\n",
       "             ('instal softwar', 1545.1123941901687),\n",
       "             ('attract', 1543.4354020979913),\n",
       "             ('apart', 1543.2072863025214),\n",
       "             ('frequent', 1542.5830843090534),\n",
       "             ('corner', 1542.2022744313535),\n",
       "             ('measur', 1541.2107322139459),\n",
       "             ('mostli', 1541.1745153188706),\n",
       "             ('veri happi', 1537.2283224885393),\n",
       "             ('clearli', 1535.3443118065716),\n",
       "             ('electr', 1532.8592131499672),\n",
       "             ('six', 1529.8018783206517),\n",
       "             ('use printer', 1529.6601045137497),\n",
       "             ('glass', 1527.4175980428868),\n",
       "             ('date', 1522.222313642992),\n",
       "             ('friend', 1517.7725424002931),\n",
       "             ('print thi', 1516.4849074727385),\n",
       "             ('pain', 1511.5513954258183),\n",
       "             ('everi time', 1510.8882906484932),\n",
       "             ('interest', 1509.2706885642394),\n",
       "             ('hear', 1509.185982180607),\n",
       "             ('form', 1507.5374512532519),\n",
       "             ('properli', 1506.5566753501937),\n",
       "             ('printer scanner', 1504.9945757862442),\n",
       "             ('one thing', 1504.8658950549452),\n",
       "             ('section', 1504.424158782351),\n",
       "             ('near', 1504.1701839362395),\n",
       "             ('warm', 1503.8797086424831),\n",
       "             ('year ago', 1502.7453375113105),\n",
       "             ('student', 1500.5852215675327),\n",
       "             ('across', 1499.8343969554628),\n",
       "             ('sent', 1497.7238789592452),\n",
       "             ('thi model', 1497.1691972968295),\n",
       "             ('recogn', 1494.6261624746355),\n",
       "             ('damag', 1493.9163643597724),\n",
       "             ('enjoy', 1493.3479083760901),\n",
       "             ('lose', 1492.2211620119324),\n",
       "             ('wife', 1491.3620416602737),\n",
       "             ('frame', 1490.3872462545614),\n",
       "             ('smear', 1485.5911012791698),\n",
       "             ('heavi duti', 1484.063603913816),\n",
       "             ('pound', 1481.4739764317023),\n",
       "             ('print page', 1480.9323014735337),\n",
       "             ('year old', 1480.0606612254446),\n",
       "             ('advantag', 1479.5242506785294),\n",
       "             ('adapt', 1477.5008936903614),\n",
       "             ('scan copi', 1476.8090195658115),\n",
       "             ('intend', 1470.9361200008968),\n",
       "             ('code', 1469.8784308788831),\n",
       "             ('twice', 1468.6595398901916),\n",
       "             ('extend', 1467.3443764081587),\n",
       "             ('soon', 1464.9536694778506),\n",
       "             ('vine', 1463.9482671030823),\n",
       "             ('first time', 1463.2527874918451),\n",
       "             ('gone', 1462.9559074838328),\n",
       "             ('tech', 1462.9102986448761),\n",
       "             ('bought thi', 1461.8578592731708),\n",
       "             ('water', 1461.2912567600047),\n",
       "             ('medium', 1460.704348925869),\n",
       "             ('printer doe', 1458.2479573549615),\n",
       "             ('today', 1458.1249637426856),\n",
       "             ('seri', 1456.8497753907031),\n",
       "             ('setup wa', 1451.5091581963293),\n",
       "             ('prevent', 1450.7460371796487),\n",
       "             ('held', 1450.400200374479),\n",
       "             ('accur', 1449.8868677047785),\n",
       "             ('bigger', 1445.553645517916),\n",
       "             ('make thi', 1445.4703829363514),\n",
       "             ('thi would', 1444.6678490379477),\n",
       "             ('ran', 1444.5957361850687),\n",
       "             ('util', 1443.0554945362783),\n",
       "             ('begin', 1442.5114648175293),\n",
       "             ('seem like', 1442.4903906968327),\n",
       "             ('appreci', 1439.1864163442806),\n",
       "             ('b w', 1433.8702840497513),\n",
       "             ('printer work', 1429.1166725238932),\n",
       "             ('color print', 1427.699955489044),\n",
       "             ('opinion', 1424.3895880731843),\n",
       "             ('think thi', 1423.478960423543),\n",
       "             ('color ink', 1423.4009188846992),\n",
       "             ('lightweight', 1422.206613168187),\n",
       "             ('flow', 1419.4338536634948),\n",
       "             ('buy thi', 1415.512655844951),\n",
       "             ('descript', 1415.208576142348),\n",
       "             ('question', 1413.5753242214746),\n",
       "             ('attempt', 1402.7704846886795),\n",
       "             ('mess', 1402.0223943918631),\n",
       "             ('eye', 1398.3569421756483),\n",
       "             ('fulli', 1397.5365327037898),\n",
       "             ('neat', 1396.6413196103433),\n",
       "             ('avoid', 1396.6251896104679),\n",
       "             ('print job', 1396.2250531942243),\n",
       "             ('saw', 1392.6572074919627),\n",
       "             ('speak', 1392.4896769973866),\n",
       "             ('reduc', 1392.2569748482281),\n",
       "             ('imagin', 1390.0216487547755),\n",
       "             ('world', 1387.8170959172517),\n",
       "             ('certain', 1385.5689400297565),\n",
       "             ('hardwar', 1385.2119501929719),\n",
       "             ('scan document', 1383.3583745734115),\n",
       "             ('outsid', 1381.9072236699451),\n",
       "             ('grab', 1375.9906837859025),\n",
       "             ('loud', 1374.4732046418455),\n",
       "             ('despit', 1373.639405451863),\n",
       "             ('middl', 1361.4370255254378),\n",
       "             ('also use', 1359.9630405268754),\n",
       "             ('warn', 1356.4847790965578),\n",
       "             ('combin', 1355.0218360554966),\n",
       "             ('get thi', 1354.0985822980008),\n",
       "             ('would like', 1353.5893002971691),\n",
       "             ('onli one', 1352.9687118094396),\n",
       "             ('also ha', 1351.8619266030007),\n",
       "             ('contact', 1344.4132152611537),\n",
       "             ('soft', 1342.9897240144151),\n",
       "             ('assum', 1340.4144071958826),\n",
       "             ('friendli', 1339.0052224101255),\n",
       "             ('satisfi', 1337.3586357609281),\n",
       "             ('particularli', 1337.1969947478851),\n",
       "             ('work veri', 1333.7602230728553),\n",
       "             ('awesom', 1330.7829368241),\n",
       "             ('consist', 1330.7829368240984),\n",
       "             ('wireless printer', 1329.7099670399309),\n",
       "             ('felt', 1329.3883784689747),\n",
       "             ('copi scan', 1325.0637703187392),\n",
       "             ('wear', 1324.7135369293908),\n",
       "             ('none', 1323.0701972583331),\n",
       "             ('small offic', 1322.7351443321693),\n",
       "             ('plenti', 1320.1815538957142),\n",
       "             ('print speed', 1315.5008475884988),\n",
       "             ('everyon', 1315.0701711323652),\n",
       "             ('feel like', 1314.4531799125646),\n",
       "             ...])"
      ]
     },
     "execution_count": 97,
     "metadata": {},
     "output_type": "execute_result"
    }
   ],
   "source": [
    "dict_processed_word_counts"
   ]
  },
  {
   "cell_type": "code",
   "execution_count": 98,
   "metadata": {
    "scrolled": true
   },
   "outputs": [
    {
     "name": "stderr",
     "output_type": "stream",
     "text": [
      "/ 0 Elapsed Time: 0:00:00                                                      /Users/shraws/anaconda3/lib/python3.6/site-packages/sklearn/decomposition/online_lda.py:294: DeprecationWarning: n_topics has been renamed to n_components in version 0.19 and will be removed in 0.21\n",
      "  DeprecationWarning)\n",
      "| 1 Elapsed Time: 0:01:09                                                      \n"
     ]
    },
    {
     "name": "stdout",
     "output_type": "stream",
     "text": [
      "0 label, tape, binder, use, product, box, paper\n",
      "1 time, one, wa, lamin, year, get, thing\n",
      "2 pen, write, color, ink, blue, like, black\n",
      "3 printer, print, thi printer, photo, wireless, ink, epson\n",
      "4 desk, pencil, pad, sharpen, heavi, chair, stapl\n",
      "5 phone, button, call, number, batteri, featur, devic\n",
      "6 scan, softwar, scanner, instal, ink cartridg, cartridg, window\n"
     ]
    }
   ],
   "source": [
    "processed_keywords, processed_doctopic = create_topics(processed_bag_of_words, \n",
    "                                                       processed_features, \n",
    "                                                      N_TOPICS = 7,\n",
    "                                                      N_TOP_WORDS= 7)"
   ]
  },
  {
   "cell_type": "code",
   "execution_count": 99,
   "metadata": {},
   "outputs": [
    {
     "data": {
      "text/plain": [
       "(12000, 1028)"
      ]
     },
     "execution_count": 99,
     "metadata": {},
     "output_type": "execute_result"
    }
   ],
   "source": [
    "processed_bag_of_words.shape"
   ]
  },
  {
   "cell_type": "code",
   "execution_count": 201,
   "metadata": {},
   "outputs": [
    {
     "data": {
      "text/plain": [
       "0"
      ]
     },
     "execution_count": 201,
     "metadata": {},
     "output_type": "execute_result"
    }
   ],
   "source": [
    "df.loc[1,\"good\"]"
   ]
  },
  {
   "cell_type": "code",
   "execution_count": 109,
   "metadata": {
    "collapsed": true
   },
   "outputs": [],
   "source": [
    "y= []\n",
    "for score in df['score']:\n",
    "    if score >= score_median:\n",
    "        y.append(1)\n",
    "    else:\n",
    "        y.append(0)\n",
    "# for i in range(len(df)):\n",
    "#     if df.loc[i,\"good\"]==1:\n",
    "#         y.append(1)\n",
    "#     elif df.loc[i,\"bad\"] ==1:\n",
    "#         y.append(-1)\n",
    "#     else:\n",
    "#         y.append(0)"
   ]
  },
  {
   "cell_type": "code",
   "execution_count": 186,
   "metadata": {
    "collapsed": true
   },
   "outputs": [],
   "source": []
  },
  {
   "cell_type": "code",
   "execution_count": 264,
   "metadata": {
    "collapsed": true
   },
   "outputs": [],
   "source": [
    "X_train,X_test,y_train,y_test = train_test_split(processed_bag_of_words,y,test_size=0.2, random_state=42)"
   ]
  },
  {
   "cell_type": "code",
   "execution_count": 265,
   "metadata": {},
   "outputs": [
    {
     "data": {
      "text/plain": [
       "(9600, 1028)"
      ]
     },
     "execution_count": 265,
     "metadata": {},
     "output_type": "execute_result"
    }
   ],
   "source": [
    "X_train.shape"
   ]
  },
  {
   "cell_type": "code",
   "execution_count": 210,
   "metadata": {
    "collapsed": true
   },
   "outputs": [],
   "source": [
    "#Adding features\n",
    "X = hstack((processed_bag_of_words,np.array(df['overall']/5)[:,None]))\n",
    "X = hstack((X,np.array(df['review_length']/np.max(df['review_length']))[:,None]))"
   ]
  },
  {
   "cell_type": "code",
   "execution_count": 211,
   "metadata": {
    "collapsed": true
   },
   "outputs": [],
   "source": [
    "X_train,X_test,y_train,y_test = train_test_split(X,y,test_size=0.2, random_state=42)"
   ]
  },
  {
   "cell_type": "code",
   "execution_count": 212,
   "metadata": {},
   "outputs": [
    {
     "name": "stdout",
     "output_type": "stream",
     "text": [
      "Length of training data 9600\n",
      "Length of test data 2400\n"
     ]
    }
   ],
   "source": [
    "print(\"Length of training data\",len(y_train))\n",
    "print(\"Length of test data\", len(y_test))"
   ]
  },
  {
   "cell_type": "code",
   "execution_count": 213,
   "metadata": {},
   "outputs": [
    {
     "name": "stdout",
     "output_type": "stream",
     "text": [
      "baseline accuracy for test data 0.502083333333\n"
     ]
    }
   ],
   "source": [
    "baseline_accuracy = sum(y_test)/len(y_test)\n",
    "print(\"baseline accuracy for test data\", baseline_accuracy)"
   ]
  },
  {
   "cell_type": "code",
   "execution_count": 214,
   "metadata": {
    "collapsed": true
   },
   "outputs": [],
   "source": [
    "# #parameters for vectorizer \n",
    "# ANALYZER = \"word\" #unit of features are single words rather then phrases of words \n",
    "# STRIP_ACCENTS = 'unicode'\n",
    "# TOKENIZER = None\n",
    "# NGRAM_RANGE = (0,2) #Range for pharases of words\n",
    "# MIN_DF = 0.01 # Exclude words that have a frequency less than the threshold\n",
    "# MAX_DF = 0.8  # Exclude words that have a frequency greater then the threshold \n",
    "\n",
    "# vectorizer = CountVectorizer(analyzer=ANALYZER,\n",
    "#                             tokenizer=None, # alternatively tokenize_and_stem but it will be slower \n",
    "#                             ngram_range=NGRAM_RANGE,\n",
    "#                             stop_words = stopwords.words('english'),\n",
    "#                             strip_accents=STRIP_ACCENTS,\n",
    "#                             min_df = MIN_DF,\n",
    "#                             max_df = MAX_DF)"
   ]
  },
  {
   "cell_type": "code",
   "execution_count": 215,
   "metadata": {
    "collapsed": true
   },
   "outputs": [],
   "source": [
    "# NORM = None #turn on normalization flag\n",
    "# SMOOTH_IDF = True #prvents division by zero errors\n",
    "# SUBLINEAR_IDF = True #replace TF with 1 + log(TF)\n",
    "# USE_IDF = True #flag to control whether to use TFIDF\n",
    "\n",
    "# transformer = TfidfTransformer(norm = NORM,smooth_idf = SMOOTH_IDF,sublinear_tf = True)\n",
    "\n",
    "# #get the bag-of-words from the vectorizer and\n",
    "# #then use TFIDF to limit the tokens found throughout the text \n",
    "# start_time = time.time()\n",
    "# train_bag_of_words = vectorizer.fit_transform( X_train[\"review_text\"] ) #using all the data on for generating features!! Bad!\n",
    "# test_bag_of_words = vectorizer.transform( X_test[\"review_text\"] )\n",
    "# if USE_IDF:\n",
    "#     train_tfidf = transformer.fit_transform(train_bag_of_words)\n",
    "#     test_tfidf = transformer.transform(test_bag_of_words)\n",
    "# features = vectorizer.get_feature_names()\n",
    "# print('Time Elapsed: {0:.2f}s'.format(\n",
    "#         time.time()-start_time))"
   ]
  },
  {
   "cell_type": "code",
   "execution_count": 222,
   "metadata": {},
   "outputs": [
    {
     "data": {
      "text/plain": [
       "0.63041666666666663"
      ]
     },
     "execution_count": 222,
     "metadata": {},
     "output_type": "execute_result"
    }
   ],
   "source": [
    "clf = LogisticRegression(penalty='l1',C=0.02)\n",
    "mdl = clf.fit(X_train, y_train) #train the classifer to get the model\n",
    "y_score = mdl.predict_proba(X_test )\n",
    "y_pred = mdl.predict(X_test)\n",
    "accuracy_score(y_test, y_pred, normalize=True, sample_weight=None)"
   ]
  },
  {
   "cell_type": "code",
   "execution_count": 196,
   "metadata": {},
   "outputs": [
    {
     "data": {
      "text/plain": [
       "0.62083333333333335"
      ]
     },
     "execution_count": 196,
     "metadata": {},
     "output_type": "execute_result"
    }
   ],
   "source": []
  },
  {
   "cell_type": "code",
   "execution_count": 209,
   "metadata": {},
   "outputs": [
    {
     "data": {
      "text/plain": [
       "0.56916666666666671"
      ]
     },
     "execution_count": 209,
     "metadata": {},
     "output_type": "execute_result"
    }
   ],
   "source": [
    "clf = RandomForestClassifier(n_jobs=2, random_state=0)\n",
    "\n",
    "# Train the Classifier to take the training features and learn how they relate\n",
    "# to the training y (the species)\n",
    "mdl = clf.fit(X_train, y_train)\n",
    "y_score = mdl.predict_proba(X_test )\n",
    "y_pred = mdl.predict(X_test)\n",
    "accuracy_score(y_test, y_pred, normalize=True, sample_weight=None)"
   ]
  },
  {
   "cell_type": "code",
   "execution_count": 137,
   "metadata": {},
   "outputs": [
    {
     "data": {
      "text/plain": [
       "0.58833333333333337"
      ]
     },
     "execution_count": 137,
     "metadata": {},
     "output_type": "execute_result"
    }
   ],
   "source": []
  },
  {
   "cell_type": "code",
   "execution_count": 166,
   "metadata": {
    "collapsed": true
   },
   "outputs": [],
   "source": [
    "def plot_precision_recall_n(y_true, y_prob, model_name):\n",
    "    \"\"\"\n",
    "    y_true: ls\n",
    "        ls of ground truth labels\n",
    "    y_prob: ls\n",
    "        ls of predic proba from model\n",
    "    model_name: str\n",
    "        str of model name (e.g, LR_123)\n",
    "    \"\"\"\n",
    "    from sklearn.metrics import precision_recall_curve\n",
    "    y_score = y_prob\n",
    "    precision_curve, recall_curve, pr_thresholds = precision_recall_curve(y_true, y_score)\n",
    "    precision_curve = precision_curve[:-1]\n",
    "    recall_curve = recall_curve[:-1]\n",
    "    pct_above_per_thresh = []\n",
    "    number_scored = len(y_score)\n",
    "    for value in pr_thresholds:\n",
    "        num_above_thresh = len(y_score[y_score>=value])\n",
    "        pct_above_thresh = num_above_thresh / float(number_scored)\n",
    "        pct_above_per_thresh.append(pct_above_thresh)\n",
    "    pct_above_per_thresh = np.array(pct_above_per_thresh)\n",
    "    plt.clf()\n",
    "    fig, ax1 = plt.subplots()\n",
    "    ax1.plot(pct_above_per_thresh, precision_curve, 'b')\n",
    "    ax1.set_xlabel('percent of population')\n",
    "    ax1.set_ylabel('precision', color='b')\n",
    "    ax1.set_ylim(0,1.05)\n",
    "    ax2 = ax1.twinx()\n",
    "    ax2.plot(pct_above_per_thresh, recall_curve, 'r')\n",
    "    ax2.set_ylabel('recall', color='r')\n",
    "    ax2.set_ylim(0,1.05)\n",
    "    \n",
    "    name = model_name\n",
    "    plt.title(name)\n",
    "    plt.show()"
   ]
  },
  {
   "cell_type": "code",
   "execution_count": 176,
   "metadata": {},
   "outputs": [
    {
     "data": {
      "text/plain": [
       "<matplotlib.figure.Figure at 0x1a231cdcf8>"
      ]
     },
     "metadata": {},
     "output_type": "display_data"
    },
    {
     "data": {
      "image/png": "[encoded data removed]",
      "text/plain": [
       "<matplotlib.figure.Figure at 0x1a22319cc0>"
      ]
     },
     "metadata": {},
     "output_type": "display_data"
    }
   ],
   "source": [
    "plot_precision_recall_n(y_test, y_score[:,1], 'LR')"
   ]
  },
  {
   "cell_type": "code",
   "execution_count": 177,
   "metadata": {
    "collapsed": true
   },
   "outputs": [],
   "source": [
    "\n",
    "def plot_precision_recall(y_true,y_score):\n",
    "    \"\"\"\n",
    "    Plot a precision recall curve\n",
    "    \n",
    "    Parameters\n",
    "    ----------\n",
    "    y_true: ls\n",
    "        ground truth labels\n",
    "    y_score: ls\n",
    "        score output from model\n",
    "    \"\"\"\n",
    "    precision_curve, recall_curve, pr_thresholds = precision_recall_curve(y_true,y_score[:,1])\n",
    "    plt.plot(recall_curve, precision_curve)\n",
    "    plt.xlabel('Recall')\n",
    "    plt.ylabel('Precision')\n",
    "    auc_val = auc(recall_curve,precision_curve)\n",
    "    print('AUC-PR: {0:1f}'.format(auc_val))\n",
    "    plt.show()\n",
    "    plt.clf()"
   ]
  },
  {
   "cell_type": "code",
   "execution_count": 178,
   "metadata": {},
   "outputs": [
    {
     "name": "stdout",
     "output_type": "stream",
     "text": [
      "AUC-PR: 0.563451\n"
     ]
    },
    {
     "data": {
      "image/png": "[encoded data removed]",
      "text/plain": [
       "<matplotlib.figure.Figure at 0x1a230dd550>"
      ]
     },
     "metadata": {},
     "output_type": "display_data"
    },
    {
     "data": {
      "text/plain": [
       "<matplotlib.figure.Figure at 0x1a231d1780>"
      ]
     },
     "metadata": {},
     "output_type": "display_data"
    }
   ],
   "source": [
    "plot_precision_recall(y_test,y_score)\n"
   ]
  },
  {
   "cell_type": "code",
   "execution_count": 233,
   "metadata": {},
   "outputs": [
    {
     "data": {
      "text/plain": [
       "0.50208333333333333"
      ]
     },
     "execution_count": 233,
     "metadata": {},
     "output_type": "execute_result"
    }
   ],
   "source": [
    "np.sum(y_test)/len(y_test)"
   ]
  },
  {
   "cell_type": "code",
   "execution_count": 234,
   "metadata": {},
   "outputs": [
    {
     "data": {
      "text/html": [
       "<div>\n",
       "<style>\n",
       "    .dataframe thead tr:only-child th {\n",
       "        text-align: right;\n",
       "    }\n",
       "\n",
       "    .dataframe thead th {\n",
       "        text-align: left;\n",
       "    }\n",
       "\n",
       "    .dataframe tbody tr th {\n",
       "        vertical-align: top;\n",
       "    }\n",
       "</style>\n",
       "<table border=\"1\" class=\"dataframe\">\n",
       "  <thead>\n",
       "    <tr style=\"text-align: right;\">\n",
       "      <th></th>\n",
       "      <th>reviewer_id</th>\n",
       "      <th>asin</th>\n",
       "      <th>summary</th>\n",
       "      <th>review_text</th>\n",
       "      <th>overall</th>\n",
       "      <th>category</th>\n",
       "      <th>total_votes</th>\n",
       "      <th>upvotes</th>\n",
       "      <th>score</th>\n",
       "      <th>good</th>\n",
       "      <th>bad</th>\n",
       "      <th>review_length</th>\n",
       "      <th>afinn</th>\n",
       "    </tr>\n",
       "  </thead>\n",
       "  <tbody>\n",
       "    <tr>\n",
       "      <th>0</th>\n",
       "      <td>A32T2H8150OJLU</td>\n",
       "      <td>B00000JBLH</td>\n",
       "      <td>A solid performer, and long time friend</td>\n",
       "      <td>I bought my first HP12C in about 1984 or so, a...</td>\n",
       "      <td>5.0</td>\n",
       "      <td>17</td>\n",
       "      <td>4</td>\n",
       "      <td>3</td>\n",
       "      <td>0.750000</td>\n",
       "      <td>0</td>\n",
       "      <td>0</td>\n",
       "      <td>186</td>\n",
       "      <td>7.0</td>\n",
       "    </tr>\n",
       "    <tr>\n",
       "      <th>1</th>\n",
       "      <td>A3MAFS04ZABRGO</td>\n",
       "      <td>B00000JBLH</td>\n",
       "      <td>Price of GOLD is up, so don't bury the golden ...</td>\n",
       "      <td>WHY THIS BELATED REVIEW? I feel very obliged t...</td>\n",
       "      <td>5.0</td>\n",
       "      <td>17</td>\n",
       "      <td>9</td>\n",
       "      <td>7</td>\n",
       "      <td>0.777778</td>\n",
       "      <td>0</td>\n",
       "      <td>0</td>\n",
       "      <td>911</td>\n",
       "      <td>73.0</td>\n",
       "    </tr>\n",
       "    <tr>\n",
       "      <th>2</th>\n",
       "      <td>A1F1A0QQP2XVH5</td>\n",
       "      <td>B00000JBLH</td>\n",
       "      <td>Good functionality, but not durable like old HPs</td>\n",
       "      <td>I have an HP 48GX that has been kicking for mo...</td>\n",
       "      <td>2.0</td>\n",
       "      <td>17</td>\n",
       "      <td>3</td>\n",
       "      <td>3</td>\n",
       "      <td>1.000000</td>\n",
       "      <td>1</td>\n",
       "      <td>0</td>\n",
       "      <td>96</td>\n",
       "      <td>-3.0</td>\n",
       "    </tr>\n",
       "    <tr>\n",
       "      <th>3</th>\n",
       "      <td>A49R5DBXXQDE5</td>\n",
       "      <td>B00000JBLH</td>\n",
       "      <td>One of the last of an almost extinct species</td>\n",
       "      <td>I've started doing more finance stuff recently...</td>\n",
       "      <td>5.0</td>\n",
       "      <td>17</td>\n",
       "      <td>8</td>\n",
       "      <td>7</td>\n",
       "      <td>0.875000</td>\n",
       "      <td>1</td>\n",
       "      <td>0</td>\n",
       "      <td>603</td>\n",
       "      <td>44.0</td>\n",
       "    </tr>\n",
       "    <tr>\n",
       "      <th>4</th>\n",
       "      <td>A2JFOHC9W629IE</td>\n",
       "      <td>B00000JBLH</td>\n",
       "      <td>Every MBA student and grad should get one</td>\n",
       "      <td>While I don't have an MBA, it's hard to believ...</td>\n",
       "      <td>5.0</td>\n",
       "      <td>17</td>\n",
       "      <td>12</td>\n",
       "      <td>10</td>\n",
       "      <td>0.833333</td>\n",
       "      <td>1</td>\n",
       "      <td>0</td>\n",
       "      <td>180</td>\n",
       "      <td>-2.0</td>\n",
       "    </tr>\n",
       "  </tbody>\n",
       "</table>\n",
       "</div>"
      ],
      "text/plain": [
       "      reviewer_id        asin  \\\n",
       "0  A32T2H8150OJLU  B00000JBLH   \n",
       "1  A3MAFS04ZABRGO  B00000JBLH   \n",
       "2  A1F1A0QQP2XVH5  B00000JBLH   \n",
       "3   A49R5DBXXQDE5  B00000JBLH   \n",
       "4  A2JFOHC9W629IE  B00000JBLH   \n",
       "\n",
       "                                             summary  \\\n",
       "0            A solid performer, and long time friend   \n",
       "1  Price of GOLD is up, so don't bury the golden ...   \n",
       "2   Good functionality, but not durable like old HPs   \n",
       "3       One of the last of an almost extinct species   \n",
       "4          Every MBA student and grad should get one   \n",
       "\n",
       "                                         review_text  overall  category  \\\n",
       "0  I bought my first HP12C in about 1984 or so, a...      5.0        17   \n",
       "1  WHY THIS BELATED REVIEW? I feel very obliged t...      5.0        17   \n",
       "2  I have an HP 48GX that has been kicking for mo...      2.0        17   \n",
       "3  I've started doing more finance stuff recently...      5.0        17   \n",
       "4  While I don't have an MBA, it's hard to believ...      5.0        17   \n",
       "\n",
       "   total_votes  upvotes     score  good  bad  review_length  afinn  \n",
       "0            4        3  0.750000     0    0            186    7.0  \n",
       "1            9        7  0.777778     0    0            911   73.0  \n",
       "2            3        3  1.000000     1    0             96   -3.0  \n",
       "3            8        7  0.875000     1    0            603   44.0  \n",
       "4           12       10  0.833333     1    0            180   -2.0  "
      ]
     },
     "execution_count": 234,
     "metadata": {},
     "output_type": "execute_result"
    }
   ],
   "source": [
    "df.head()"
   ]
  },
  {
   "cell_type": "code",
   "execution_count": 174,
   "metadata": {
    "collapsed": true
   },
   "outputs": [],
   "source": [
    "# Class for defining LabeledSentence iterator object for the documents\n",
    "class LabeledLineSentence(object):\n",
    "        def __init__(self, doc_list, labels_list):\n",
    "            self.labels_list = labels_list\n",
    "            self.doc_list = doc_list\n",
    "        def __iter__(self):\n",
    "            for idx, doc in enumerate(self.doc_list):\n",
    "                yield models.doc2vec.LabeledSentence(doc,[self.labels_list[idx]])"
   ]
  },
  {
   "cell_type": "code",
   "execution_count": 175,
   "metadata": {
    "collapsed": true
   },
   "outputs": [],
   "source": [
    "def pre_process(docs): \n",
    "    processed_corpus=[]\n",
    "    for i in range(len(docs)):\n",
    "        doc = docs[i].split()\n",
    "        processed_corpus.append(doc)\n",
    "    return processed_corpus"
   ]
  },
  {
   "cell_type": "code",
   "execution_count": 252,
   "metadata": {
    "collapsed": true
   },
   "outputs": [],
   "source": [
    "#This function converts the corpus to a doc2vec vector and return the corresponding vectors\n",
    "def get_doc2vec(train_corpus,test_corpus):\n",
    "    \n",
    "    #Creating unique labels for each jon description\n",
    "    train_doc_labels = np.array(['Train{}'.format(i) for i in range(len(train_corpus))])\n",
    "    test_doc_labels = np.array(['Test{}'.format(i) for i in range(len(test_corpus))])\n",
    "\n",
    "    it_train = LabeledLineSentence(train_corpus, train_doc_labels)\n",
    "    it_test =  LabeledLineSentence(test_corpus, test_doc_labels)\n",
    "    \n",
    "    \n",
    "    model = Doc2Vec( min_count=1, workers=11,alpha=0.025, min_alpha=0.025) \n",
    "    #model_test  = models.Doc2Vec( min_count=1, workers=11,alpha=0.025, min_alpha=0.025) \n",
    "    \n",
    "    #Building vocabulary for both training and testing Doc2vec models\n",
    "    model.build_vocab(it_train)\n",
    "    \n",
    "    #model.train(train_sentences, total_examples=len(train_sentences), epochs = 20)\n",
    "    #Training the train corpus\n",
    "    for epoch in range(10):\n",
    "        model.train(it_train,total_examples=model.corpus_count,epochs=model.iter)\n",
    "        model.alpha -= 0.002\n",
    "        model.min_alpha = model.alpha\n",
    "        \n",
    "    #Training the test corpus\n",
    "#     for epoch in range(10):\n",
    "#         model_test.train(it_test,total_examples=model_test.corpus_count,epochs=model_test.iter)\n",
    "#         model_test.alpha -= 0.002\n",
    "#         model_test.min_alpha = model_test.alpha\n",
    "    \n",
    "    print(\"Finished Training!\")\n",
    "    model.save(\"model.doc2vec\")\n",
    "    d2v_train_model = models.doc2vec.Doc2Vec.load('model.doc2vec')\n",
    "\n",
    "    \n",
    "    train_regressors = [model.infer_vector(doc.words, steps=20) for doc in it_train]\n",
    "\n",
    "    test_regressors = [model.infer_vector(doc.words, steps=20) for doc in it_test]\n",
    "#     model_test.save(\"test_model.doc2vec\")\n",
    "#     d2v_test_model = models.doc2vec.Doc2Vec.load('test_model.doc2vec')\n",
    "    \n",
    "#     train_vecs = np.array(model.docvecs)\n",
    "#     test_vecs = np.array(model.docvecs)\n",
    "    \n",
    "    return train_regressors,test_regressors"
   ]
  },
  {
   "cell_type": "code",
   "execution_count": 253,
   "metadata": {
    "collapsed": true
   },
   "outputs": [],
   "source": [
    "processed_corpus = pre_process(df['review_text'])"
   ]
  },
  {
   "cell_type": "code",
   "execution_count": 254,
   "metadata": {
    "collapsed": true
   },
   "outputs": [],
   "source": [
    "X_train,X_test,y_train,y_test = train_test_split(processed_corpus,y,test_size=0.2, random_state=42)"
   ]
  },
  {
   "cell_type": "code",
   "execution_count": 255,
   "metadata": {},
   "outputs": [
    {
     "name": "stdout",
     "output_type": "stream",
     "text": [
      "Finished Training!\n"
     ]
    }
   ],
   "source": [
    "train_regressor, test_regressor = get_doc2vec(X_train,X_test)"
   ]
  },
  {
   "cell_type": "code",
   "execution_count": 256,
   "metadata": {
    "collapsed": true
   },
   "outputs": [],
   "source": [
    "def plot_confusion_matrix(cm, title='Confusion matrix', cmap=plt.cm.Blues):\n",
    "    plt.imshow(cm, interpolation='nearest', cmap=cmap)\n",
    "    plt.title(title)\n",
    "    plt.colorbar()\n",
    "    tick_marks = np.arange(len(my_tags))\n",
    "    target_names = my_tags\n",
    "    plt.xticks(tick_marks, target_names, rotation=45)\n",
    "    plt.yticks(tick_marks, target_names)\n",
    "    plt.tight_layout()\n",
    "    plt.ylabel('True label')\n",
    "    plt.xlabel('Predicted label')\n",
    "\n",
    "def evaluate_prediction(predictions, target, title=\"Confusion matrix\"):\n",
    "    print('accuracy %s' % accuracy_score(target, predictions))\n",
    "    cm = confusion_matrix(target, predictions)\n",
    "    print('confusion matrix\\n %s' % cm)\n",
    "    print('(row=expected, col=predicted)')\n",
    "    \n",
    "    cm_normalized = cm.astype('float') / cm.sum(axis=1)[:, np.newaxis]\n",
    "    plot_confusion_matrix(cm_normalized, title + ' Normalized')\n",
    "    \n"
   ]
  },
  {
   "cell_type": "code",
   "execution_count": 263,
   "metadata": {},
   "outputs": [
    {
     "name": "stdout",
     "output_type": "stream",
     "text": [
      "accuracy 0.5625\n",
      "confusion matrix\n",
      " [[933 262]\n",
      " [788 417]]\n",
      "(row=expected, col=predicted)\n"
     ]
    },
    {
     "ename": "NameError",
     "evalue": "name 'my_tags' is not defined",
     "output_type": "error",
     "traceback": [
      "\u001b[0;31m---------------------------------------------------------------------------\u001b[0m",
      "\u001b[0;31mNameError\u001b[0m                                 Traceback (most recent call last)",
      "\u001b[0;32m<timed exec>\u001b[0m in \u001b[0;36m<module>\u001b[0;34m()\u001b[0m\n",
      "\u001b[0;32m<ipython-input-256-5624515a8635>\u001b[0m in \u001b[0;36mevaluate_prediction\u001b[0;34m(predictions, target, title)\u001b[0m\n\u001b[1;32m     18\u001b[0m \u001b[0;34m\u001b[0m\u001b[0m\n\u001b[1;32m     19\u001b[0m     \u001b[0mcm_normalized\u001b[0m \u001b[0;34m=\u001b[0m \u001b[0mcm\u001b[0m\u001b[0;34m.\u001b[0m\u001b[0mastype\u001b[0m\u001b[0;34m(\u001b[0m\u001b[0;34m'float'\u001b[0m\u001b[0;34m)\u001b[0m \u001b[0;34m/\u001b[0m \u001b[0mcm\u001b[0m\u001b[0;34m.\u001b[0m\u001b[0msum\u001b[0m\u001b[0;34m(\u001b[0m\u001b[0maxis\u001b[0m\u001b[0;34m=\u001b[0m\u001b[0;36m1\u001b[0m\u001b[0;34m)\u001b[0m\u001b[0;34m[\u001b[0m\u001b[0;34m:\u001b[0m\u001b[0;34m,\u001b[0m \u001b[0mnp\u001b[0m\u001b[0;34m.\u001b[0m\u001b[0mnewaxis\u001b[0m\u001b[0;34m]\u001b[0m\u001b[0;34m\u001b[0m\u001b[0m\n\u001b[0;32m---> 20\u001b[0;31m     \u001b[0mplot_confusion_matrix\u001b[0m\u001b[0;34m(\u001b[0m\u001b[0mcm_normalized\u001b[0m\u001b[0;34m,\u001b[0m \u001b[0mtitle\u001b[0m \u001b[0;34m+\u001b[0m \u001b[0;34m' Normalized'\u001b[0m\u001b[0;34m)\u001b[0m\u001b[0;34m\u001b[0m\u001b[0m\n\u001b[0m\u001b[1;32m     21\u001b[0m \u001b[0;34m\u001b[0m\u001b[0m\n",
      "\u001b[0;32m<ipython-input-256-5624515a8635>\u001b[0m in \u001b[0;36mplot_confusion_matrix\u001b[0;34m(cm, title, cmap)\u001b[0m\n\u001b[1;32m      3\u001b[0m     \u001b[0mplt\u001b[0m\u001b[0;34m.\u001b[0m\u001b[0mtitle\u001b[0m\u001b[0;34m(\u001b[0m\u001b[0mtitle\u001b[0m\u001b[0;34m)\u001b[0m\u001b[0;34m\u001b[0m\u001b[0m\n\u001b[1;32m      4\u001b[0m     \u001b[0mplt\u001b[0m\u001b[0;34m.\u001b[0m\u001b[0mcolorbar\u001b[0m\u001b[0;34m(\u001b[0m\u001b[0;34m)\u001b[0m\u001b[0;34m\u001b[0m\u001b[0m\n\u001b[0;32m----> 5\u001b[0;31m     \u001b[0mtick_marks\u001b[0m \u001b[0;34m=\u001b[0m \u001b[0mnp\u001b[0m\u001b[0;34m.\u001b[0m\u001b[0marange\u001b[0m\u001b[0;34m(\u001b[0m\u001b[0mlen\u001b[0m\u001b[0;34m(\u001b[0m\u001b[0mmy_tags\u001b[0m\u001b[0;34m)\u001b[0m\u001b[0;34m)\u001b[0m\u001b[0;34m\u001b[0m\u001b[0m\n\u001b[0m\u001b[1;32m      6\u001b[0m     \u001b[0mtarget_names\u001b[0m \u001b[0;34m=\u001b[0m \u001b[0mmy_tags\u001b[0m\u001b[0;34m\u001b[0m\u001b[0m\n\u001b[1;32m      7\u001b[0m     \u001b[0mplt\u001b[0m\u001b[0;34m.\u001b[0m\u001b[0mxticks\u001b[0m\u001b[0;34m(\u001b[0m\u001b[0mtick_marks\u001b[0m\u001b[0;34m,\u001b[0m \u001b[0mtarget_names\u001b[0m\u001b[0;34m,\u001b[0m \u001b[0mrotation\u001b[0m\u001b[0;34m=\u001b[0m\u001b[0;36m45\u001b[0m\u001b[0;34m)\u001b[0m\u001b[0;34m\u001b[0m\u001b[0m\n",
      "\u001b[0;31mNameError\u001b[0m: name 'my_tags' is not defined"
     ]
    },
    {
     "data": {
      "image/png": "[encoded data removed]",
      "text/plain": [
       "<matplotlib.figure.Figure at 0x1a426fca20>"
      ]
     },
     "metadata": {},
     "output_type": "display_data"
    }
   ],
   "source": [
    "%%time\n",
    "logreg = LogisticRegression(n_jobs=1, C=0.1, penalty='l1')\n",
    "logreg = logreg.fit(train_regressor, y_train)\n",
    "evaluate_prediction(logreg.predict(test_regressor), y_test, title=str(model))"
   ]
  },
  {
   "cell_type": "code",
   "execution_count": null,
   "metadata": {
    "collapsed": true
   },
   "outputs": [],
   "source": []
  }
 ],
 "metadata": {
  "kernelspec": {
   "display_name": "Python 3",
   "language": "python",
   "name": "python3"
  },
  "language_info": {
   "codemirror_mode": {
    "name": "ipython",
    "version": 3
   },
   "file_extension": ".py",
   "mimetype": "text/x-python",
   "name": "python",
   "nbconvert_exporter": "python",
   "pygments_lexer": "ipython3",
   "version": "3.6.3"
  }
 },
 "nbformat": 4,
 "nbformat_minor": 2
}
